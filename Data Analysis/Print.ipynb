{
 "cells": [
  {
   "cell_type": "code",
   "execution_count": 1,
   "id": "585b8d1a",
   "metadata": {},
   "outputs": [
    {
     "name": "stdout",
     "output_type": "stream",
     "text": [
      "shuffled data: [4, 0, 2, 1, 5, 8, 9, 7, 3, 6]\n",
      "ascending sort: [0, 1, 2, 3, 4, 5, 6, 7, 8, 9]\n",
      "descending sort: [9, 8, 7, 6, 5, 4, 3, 2, 1, 0]\n",
      "data tuples: [(9, 10), (8, 10), (7, 8), (6, 10), (5, 6), (4, 7), (3, 8), (2, 4), (1, 14), (0, 11)]\n",
      "sorted data tuples: [(0, 11), (1, 14), (2, 4), (3, 8), (4, 7), (5, 6), (6, 10), (7, 8), (8, 10), (9, 10)]\n",
      "sorted by second item: [(2, 4), (5, 6), (4, 7), (3, 8), (7, 8), (6, 10), (8, 10), (9, 10), (0, 11), (1, 14)]\n",
      "sorted by product: [(9, 10), (8, 10), (6, 10), (7, 8), (5, 6), (4, 7), (3, 8), (1, 14), (2, 4), (0, 11)]\n",
      "shuffled tuples: [(7, 8), (3, 8), (2, 4), (5, 6), (6, 10), (8, 10), (0, 11), (1, 14), (9, 10), (4, 7)]\n",
      "tuples after sorted: [(7, 8), (3, 8), (2, 4), (5, 6), (6, 10), (8, 10), (0, 11), (1, 14), (9, 10), (4, 7)]\n",
      "returned from sorted: [(1, 14), (0, 11), (6, 10), (8, 10), (9, 10), (7, 8), (3, 8), (4, 7), (5, 6), (2, 4)]\n"
     ]
    }
   ],
   "source": [
    "\"\"\"\n",
    "More advanced sorting examples.\n",
    "\"\"\"\n",
    "\n",
    "import random\n",
    "\n",
    "# Easily create a shuffled list of numbers\n",
    "data = list(range(10))\n",
    "random.shuffle(data)\n",
    "print(\"shuffled data:\", data)\n",
    "\n",
    "# Sort the list of numbers\n",
    "data.sort()\n",
    "print(\"ascending sort:\", data)\n",
    "data.sort(reverse=True)\n",
    "print(\"descending sort:\", data)\n",
    "\n",
    "# Create a list of tuples\n",
    "datatups = [(item, random.randrange(3, 15)) for item in data]\n",
    "print(\"data tuples:\", datatups)\n",
    "\n",
    "# Sort the list\n",
    "datatups.sort()\n",
    "print(\"sorted data tuples:\", datatups)\n",
    "\n",
    "datatups.sort(key=lambda pair: pair[1])\n",
    "print(\"sorted by second item:\", datatups)\n",
    "\n",
    "datatups.sort(key=lambda pair: pair[0] * pair[1], reverse=True)\n",
    "print(\"sorted by product:\", datatups)\n",
    "\n",
    "# Shuffle it again\n",
    "random.shuffle(datatups)\n",
    "print(\"shuffled tuples:\", datatups)\n",
    "\n",
    "# Use sorted to sort the list\n",
    "newdata = sorted(datatups, key=lambda pair: pair[1], reverse=True)\n",
    "print(\"tuples after sorted:\", datatups)\n",
    "print(\"returned from sorted:\", newdata)\n"
   ]
  }
 ],
 "metadata": {
  "kernelspec": {
   "display_name": "Python 3 (ipykernel)",
   "language": "python",
   "name": "python3"
  },
  "language_info": {
   "codemirror_mode": {
    "name": "ipython",
    "version": 3
   },
   "file_extension": ".py",
   "mimetype": "text/x-python",
   "name": "python",
   "nbconvert_exporter": "python",
   "pygments_lexer": "ipython3",
   "version": "3.9.7"
  }
 },
 "nbformat": 4,
 "nbformat_minor": 5
}
