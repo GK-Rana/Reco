{
 "cells": [
  {
   "cell_type": "markdown",
   "id": "f40e08d1",
   "metadata": {},
   "source": [
    "# Sorting"
   ]
  },
  {
   "cell_type": "code",
   "execution_count": 1,
   "id": "7d2f7099",
   "metadata": {},
   "outputs": [
    {
     "name": "stdout",
     "output_type": "stream",
     "text": [
      "range data: [0, 1, 2, 3, 4, 5, 6, 7, 8, 9]\n",
      "shuffled data: [2, 9, 1, 5, 3, 0, 8, 7, 4, 6]\n",
      "sorted data: [0, 1, 2, 3, 4, 5, 6, 7, 8, 9]\n",
      "shuffled data: [5, 4, 8, 9, 2, 7, 0, 6, 1, 3]\n",
      "data after sorted: [5, 4, 8, 9, 2, 7, 0, 6, 1, 3]\n",
      "returned from sorted: [0, 1, 2, 3, 4, 5, 6, 7, 8, 9]\n",
      "data tuple: (5, 4, 8, 9, 2, 7, 0, 6, 1, 3)\n",
      "tuple after sort: (5, 4, 8, 9, 2, 7, 0, 6, 1, 3)\n",
      "returned from sorted: [0, 1, 2, 3, 4, 5, 6, 7, 8, 9]\n",
      "data dictionary: {5: 25, 4: 16, 8: 64, 9: 81, 2: 4, 7: 49, 0: 0, 6: 36, 1: 1, 3: 9}\n",
      "returned from sorted: [0, 1, 2, 3, 4, 5, 6, 7, 8, 9]\n"
     ]
    }
   ],
   "source": [
    "\"\"\"\n",
    "Example code to sort sequences.\n",
    "\"\"\"\n",
    "\n",
    "import random\n",
    "\n",
    "# Easily create a list of numbers\n",
    "data = list(range(10))\n",
    "print(\"range data:\", data)\n",
    "\n",
    "# Randomly shuffle those numbers\n",
    "random.shuffle(data)\n",
    "print(\"shuffled data:\", data)\n",
    "\n",
    "# Sort the list of numbers\n",
    "data.sort()\n",
    "print(\"sorted data:\", data)\n",
    "\n",
    "# Shuffle it again\n",
    "random.shuffle(data)\n",
    "print(\"shuffled data:\", data)\n",
    "\n",
    "# Use sorted to sort the list\n",
    "newdata = sorted(data)\n",
    "print(\"data after sorted:\", data)\n",
    "print(\"returned from sorted:\", newdata)\n",
    "\n",
    "# Convert to a tuple\n",
    "datatup = tuple(data)\n",
    "print(\"data tuple:\", datatup)\n",
    "\n",
    "# Sort the tuple of numbers\n",
    "# datatup.sort()\n",
    "print(\"tuple after sort:\", datatup)\n",
    "\n",
    "# Use sorted to sort the tuple\n",
    "newdatatup = sorted(datatup)\n",
    "print(\"returned from sorted:\", newdatatup)\n",
    "\n",
    "# Create a dictionary of squares (dictionary comprehension)\n",
    "datamap = {key: key ** 2 for key in datatup}\n",
    "print(\"data dictionary:\", datamap)\n",
    "\n",
    "# Use sorted to sort the dictionary\n",
    "sortmap = sorted(datamap)\n",
    "print(\"returned from sorted:\", sortmap)"
   ]
  },
  {
   "cell_type": "markdown",
   "id": "56fe24e3",
   "metadata": {},
   "source": [
    "# Lambda"
   ]
  },
  {
   "cell_type": "code",
   "execution_count": 1,
   "id": "1a7a4786",
   "metadata": {},
   "outputs": [
    {
     "name": "stdout",
     "output_type": "stream",
     "text": [
      "range data: [0, 1, 2, 3, 4, 5, 6, 7, 8, 9]\n",
      "squares: [0, 1, 4, 9, 16, 25, 36, 49, 64, 81]\n",
      "doubles: [0, 2, 4, 6, 8, 10, 12, 14, 16, 18]\n",
      "random numbers: [2, 3, 2, 3, 3, 5, 4, 7, 6, 8]\n",
      "tuples: [(0, 2), (1, 3), (2, 2), (3, 3), (4, 3), (5, 5), (6, 4), (7, 7), (8, 6), (9, 8)]\n",
      "minimums: [0, 1, 2, 3, 3, 5, 4, 7, 6, 8]\n",
      "filtered: [(4, 3), (6, 4), (8, 6), (9, 8)]\n"
     ]
    }
   ],
   "source": [
    "\"\"\"\n",
    "Examples of creating and using anonymous functions.\n",
    "\"\"\"\n",
    "\n",
    "import random\n",
    "\n",
    "# Easily create a list of numbers\n",
    "data = list(range(10))\n",
    "print(\"range data:\", data)\n",
    "\n",
    "def square(val):\n",
    "    return val ** 2\n",
    "\n",
    "# Square all numbers in the list\n",
    "squares = list(map(square, data))\n",
    "print(\"squares:\", squares)\n",
    "\n",
    "# Double all numbers in the list\n",
    "doubles = list(map(lambda num: num * 2, data))\n",
    "print(\"doubles:\", doubles)\n",
    "\n",
    "# Create a list of random numbers (list comprehension)\n",
    "randnums = [random.randrange(2, num+3) for num in range(10)]\n",
    "print(\"random numbers:\", randnums)\n",
    "\n",
    "# Create a list of tuples\n",
    "tups = list(map(lambda num1, num2: (num1, num2), data, randnums))\n",
    "print(\"tuples:\", tups)\n",
    "\n",
    "# Create a list of the min values in the tuples\n",
    "mins = list(map(lambda pair: min(pair[0], pair[1]), tups))\n",
    "print(\"minimums:\", mins)\n",
    "\n",
    "# Create a list only of tuples where the second item is less than the first\n",
    "newtups = list(filter(lambda pair: pair[1] < pair[0], tups))\n",
    "print(\"filtered:\", newtups)"
   ]
  },
  {
   "cell_type": "markdown",
   "id": "b26bea19",
   "metadata": {},
   "source": [
    "# KEY"
   ]
  },
  {
   "cell_type": "code",
   "execution_count": 2,
   "id": "ee59e0d8",
   "metadata": {},
   "outputs": [
    {
     "name": "stdout",
     "output_type": "stream",
     "text": [
      "shuffled data: [9, 7, 6, 3, 1, 2, 4, 8, 5, 0]\n",
      "ascending sort: [0, 1, 2, 3, 4, 5, 6, 7, 8, 9]\n",
      "descending sort: [9, 8, 7, 6, 5, 4, 3, 2, 1, 0]\n",
      "data tuples: [(9, 3), (8, 12), (7, 3), (6, 10), (5, 8), (4, 6), (3, 14), (2, 10), (1, 10), (0, 8)]\n",
      "sorted data tuples: [(0, 8), (1, 10), (2, 10), (3, 14), (4, 6), (5, 8), (6, 10), (7, 3), (8, 12), (9, 3)]\n",
      "sorted by second item: [(7, 3), (9, 3), (4, 6), (0, 8), (5, 8), (1, 10), (2, 10), (6, 10), (8, 12), (3, 14)]\n",
      "sorted by product: [(8, 12), (6, 10), (3, 14), (5, 8), (9, 3), (4, 6), (7, 3), (2, 10), (1, 10), (0, 8)]\n",
      "shuffled tuples: [(1, 10), (3, 14), (7, 3), (2, 10), (5, 8), (8, 12), (6, 10), (0, 8), (9, 3), (4, 6)]\n",
      "tuples after sorted: [(1, 10), (3, 14), (7, 3), (2, 10), (5, 8), (8, 12), (6, 10), (0, 8), (9, 3), (4, 6)]\n",
      "returned from sorted: [(3, 14), (8, 12), (1, 10), (2, 10), (6, 10), (5, 8), (0, 8), (4, 6), (7, 3), (9, 3)]\n"
     ]
    }
   ],
   "source": [
    "\"\"\"\n",
    "More advanced sorting examples.\n",
    "\"\"\"\n",
    "\n",
    "import random\n",
    "\n",
    "# Easily create a shuffled list of numbers\n",
    "data = list(range(10))\n",
    "random.shuffle(data)\n",
    "print(\"shuffled data:\", data)\n",
    "\n",
    "# Sort the list of numbers\n",
    "data.sort()\n",
    "print(\"ascending sort:\", data)\n",
    "data.sort(reverse=True)\n",
    "print(\"descending sort:\", data)\n",
    "\n",
    "# Create a list of tuples\n",
    "datatups = [(item, random.randrange(3, 15)) for item in data]\n",
    "print(\"data tuples:\", datatups)\n",
    "\n",
    "# Sort the list\n",
    "datatups.sort()\n",
    "print(\"sorted data tuples:\", datatups)\n",
    "\n",
    "datatups.sort(key=lambda pair: pair[1])\n",
    "print(\"sorted by second item:\", datatups)\n",
    "\n",
    "datatups.sort(key=lambda pair: pair[0] * pair[1], reverse=True)\n",
    "print(\"sorted by product:\", datatups)\n",
    "\n",
    "# Shuffle it again\n",
    "random.shuffle(datatups)\n",
    "print(\"shuffled tuples:\", datatups)\n",
    "\n",
    "# Use sorted to sort the list\n",
    "newdata = sorted(datatups, key=lambda pair: pair[1], reverse=True)\n",
    "print(\"tuples after sorted:\", datatups)\n",
    "print(\"returned from sorted:\", newdata)\n"
   ]
  },
  {
   "cell_type": "code",
   "execution_count": null,
   "id": "9603a40b",
   "metadata": {},
   "outputs": [],
   "source": []
  },
  {
   "cell_type": "code",
   "execution_count": null,
   "id": "40fbf08a",
   "metadata": {},
   "outputs": [],
   "source": [
    "\"\"\"\n",
    "Converting the average daily temperatures for several planets \n",
    "from Kelvin to Farenheit --- Version 0\n",
    "\"\"\"\n",
    "# Initialize emperatures for various planets\n",
    "# http://www.smartconversion.com/otherInfo/Temperature_of_planets_and_the_Sun.aspx\n",
    "mercury = 440\n",
    "venus = 737\n",
    "mars = 210\n",
    "\n",
    "# Compute temperature in Farenheit\n",
    "mercury_result = (mercury - 275.15) * 9 / 5 + 32\n",
    "venus_result = (venus - 275.15) * 9 / 5 + 32\n",
    "mars_result = (mars - 275.15) * 9 / 5 + 32\n",
    "\n",
    "# Print\n",
    "print(\"The daily average temperature on Mercury is\", mercury_result, \"Farenheit\")\n",
    "print(\"The daily average temperature on Venus is\", venus_result, \"Farenheit\")\n",
    "print(\"The daily average temperature on Mars is\", mars_result, \"Farenheit\")\n",
    "\n",
    "# Output\n",
    "##The daily average temperature on Mercury is 328.73 Farenheit\n",
    "##The daily average temperature on Venus is 863.33 Farenheit\n",
    "##The daily average temperature on Mars is -85.27 Farenheit"
   ]
  }
 ],
 "metadata": {
  "kernelspec": {
   "display_name": "Python 3 (ipykernel)",
   "language": "python",
   "name": "python3"
  },
  "language_info": {
   "codemirror_mode": {
    "name": "ipython",
    "version": 3
   },
   "file_extension": ".py",
   "mimetype": "text/x-python",
   "name": "python",
   "nbconvert_exporter": "python",
   "pygments_lexer": "ipython3",
   "version": "3.9.7"
  }
 },
 "nbformat": 4,
 "nbformat_minor": 5
}
