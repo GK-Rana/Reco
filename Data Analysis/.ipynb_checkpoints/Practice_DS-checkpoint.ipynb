{
 "cells": [
  {
   "cell_type": "code",
   "execution_count": 22,
   "id": "15e69526",
   "metadata": {},
   "outputs": [
    {
     "ename": "Error",
     "evalue": "line contains NUL",
     "output_type": "error",
     "traceback": [
      "\u001b[1;31m---------------------------------------------------------------------------\u001b[0m",
      "\u001b[1;31mError\u001b[0m                                     Traceback (most recent call last)",
      "Input \u001b[1;32mIn [22]\u001b[0m, in \u001b[0;36m<cell line: 14>\u001b[1;34m()\u001b[0m\n\u001b[0;32m     12\u001b[0m \u001b[38;5;28;01mdef\u001b[39;00m \u001b[38;5;21mwrite_csv\u001b[39m():\n\u001b[0;32m     13\u001b[0m     \u001b[38;5;28;01mpass\u001b[39;00m\n\u001b[1;32m---> 14\u001b[0m \u001b[43mread_csv_file\u001b[49m\u001b[43m(\u001b[49m\u001b[38;5;124;43m\"\u001b[39;49m\u001b[38;5;124;43mcancer_risk05_v4_county.csv\u001b[39;49m\u001b[38;5;124;43m\"\u001b[39;49m\u001b[43m)\u001b[49m\n",
      "Input \u001b[1;32mIn [22]\u001b[0m, in \u001b[0;36mread_csv_file\u001b[1;34m(filename)\u001b[0m\n\u001b[0;32m      5\u001b[0m     table\u001b[38;5;241m=\u001b[39m[]\n\u001b[0;32m      6\u001b[0m     read_ka_obj \u001b[38;5;241m=\u001b[39m csv\u001b[38;5;241m.\u001b[39mreader(f , delimiter \u001b[38;5;241m=\u001b[39m\u001b[38;5;124m'\u001b[39m\u001b[38;5;124m,\u001b[39m\u001b[38;5;124m'\u001b[39m )\n\u001b[1;32m----> 7\u001b[0m     \u001b[38;5;28;01mfor\u001b[39;00m row \u001b[38;5;129;01min\u001b[39;00m read_ka_obj:\n\u001b[0;32m      8\u001b[0m         table\u001b[38;5;241m.\u001b[39mappend(row)\n\u001b[0;32m      9\u001b[0m \u001b[38;5;28;01mreturn\u001b[39;00m table\n",
      "\u001b[1;31mError\u001b[0m: line contains NUL"
     ]
    }
   ],
   "source": [
    "import csv\n",
    "\n",
    "def read_csv_file(filename):   \n",
    "    with open(filename, encoding = \"ANSI\",newline='') as f:\n",
    "        table=[]\n",
    "        read_ka_obj = csv.reader(f , delimiter =',' )\n",
    "        for row in read_ka_obj:\n",
    "            table.append(row)\n",
    "    return table\n",
    "\n",
    "\n",
    "def write_csv():\n",
    "    pass\n",
    "read_csv_file(\"cancer_risk05_v4_county.csv\")\n",
    "\n"
   ]
  },
  {
   "cell_type": "code",
   "execution_count": 21,
   "id": "bd7740f6",
   "metadata": {},
   "outputs": [
    {
     "data": {
      "text/plain": [
       "[['1 2 3'], ['4 5 6'], ['7 8 9'], ['10 11 12']]"
      ]
     },
     "execution_count": 21,
     "metadata": {},
     "output_type": "execute_result"
    }
   ],
   "source": [
    "import csv\n",
    "\n",
    "def read_csv_file(file_name):\n",
    "    \"\"\"\n",
    "    Given a CSV file, read the data into a nested list\n",
    "    Input: String corresponding to comma-separated  CSV file\n",
    "    Output: Nested list consisting of the fields in the CSV file\n",
    "    \"\"\" \n",
    "       \n",
    "    with open(file_name, newline='') as csv_file:       # don't need to explicitly close the file now\n",
    "        csv_table = []\n",
    "        csv_reader = csv.reader(csv_file, delimiter=',')\n",
    "        for row in csv_reader:\n",
    "            csv_table.append(row)\n",
    "    return csv_table\n",
    "\n",
    "read_csv_file(\"number_table.csv\")"
   ]
  },
  {
   "cell_type": "code",
   "execution_count": 28,
   "id": "3b539677",
   "metadata": {},
   "outputs": [
    {
     "ename": "TypeError",
     "evalue": "expected str, bytes or os.PathLike object, not tuple",
     "output_type": "error",
     "traceback": [
      "\u001b[1;31m---------------------------------------------------------------------------\u001b[0m",
      "\u001b[1;31mTypeError\u001b[0m                                 Traceback (most recent call last)",
      "Input \u001b[1;32mIn [28]\u001b[0m, in \u001b[0;36m<cell line: 14>\u001b[1;34m()\u001b[0m\n\u001b[0;32m     12\u001b[0m \u001b[38;5;28;01mdef\u001b[39;00m \u001b[38;5;21mwrite_csv\u001b[39m():\n\u001b[0;32m     13\u001b[0m     \u001b[38;5;28;01mpass\u001b[39;00m\n\u001b[1;32m---> 14\u001b[0m \u001b[43mread_csv_file\u001b[49m\u001b[43m(\u001b[49m\u001b[38;5;124;43m\"\u001b[39;49m\u001b[38;5;124;43mcancer_risk05_v4_county.csv\u001b[39;49m\u001b[38;5;124;43m\"\u001b[39;49m\u001b[43m)\u001b[49m\n",
      "Input \u001b[1;32mIn [28]\u001b[0m, in \u001b[0;36mread_csv_file\u001b[1;34m(filename)\u001b[0m\n\u001b[0;32m      4\u001b[0m \u001b[38;5;28;01mdef\u001b[39;00m \u001b[38;5;21mread_csv_file\u001b[39m(filename):   \n\u001b[0;32m      5\u001b[0m         table\u001b[38;5;241m=\u001b[39m[]\n\u001b[1;32m----> 6\u001b[0m         read_ka_obj \u001b[38;5;241m=\u001b[39m csv\u001b[38;5;241m.\u001b[39mreader(\u001b[43mcodecs\u001b[49m\u001b[38;5;241;43m.\u001b[39;49m\u001b[43mopen\u001b[49m\u001b[43m(\u001b[49m\u001b[43m(\u001b[49m\u001b[43mfilename\u001b[49m\u001b[43m \u001b[49m\u001b[43m,\u001b[49m\u001b[43m \u001b[49m\u001b[38;5;124;43m'\u001b[39;49m\u001b[38;5;124;43mANSI\u001b[39;49m\u001b[38;5;124;43m'\u001b[39;49m\u001b[43m \u001b[49m\u001b[43m)\u001b[49m\u001b[43m)\u001b[49m)\n\u001b[0;32m      7\u001b[0m         \u001b[38;5;28;01mfor\u001b[39;00m row \u001b[38;5;129;01min\u001b[39;00m read_ka_obj:\n\u001b[0;32m      8\u001b[0m             table\u001b[38;5;241m.\u001b[39mappend(row)\n",
      "File \u001b[1;32m~\\AppData\\Local\\Programs\\Python\\Python39\\lib\\codecs.py:905\u001b[0m, in \u001b[0;36mopen\u001b[1;34m(filename, mode, encoding, errors, buffering)\u001b[0m\n\u001b[0;32m    901\u001b[0m \u001b[38;5;28;01mif\u001b[39;00m encoding \u001b[38;5;129;01mis\u001b[39;00m \u001b[38;5;129;01mnot\u001b[39;00m \u001b[38;5;28;01mNone\u001b[39;00m \u001b[38;5;129;01mand\u001b[39;00m \\\n\u001b[0;32m    902\u001b[0m    \u001b[38;5;124m'\u001b[39m\u001b[38;5;124mb\u001b[39m\u001b[38;5;124m'\u001b[39m \u001b[38;5;129;01mnot\u001b[39;00m \u001b[38;5;129;01min\u001b[39;00m mode:\n\u001b[0;32m    903\u001b[0m     \u001b[38;5;66;03m# Force opening of the file in binary mode\u001b[39;00m\n\u001b[0;32m    904\u001b[0m     mode \u001b[38;5;241m=\u001b[39m mode \u001b[38;5;241m+\u001b[39m \u001b[38;5;124m'\u001b[39m\u001b[38;5;124mb\u001b[39m\u001b[38;5;124m'\u001b[39m\n\u001b[1;32m--> 905\u001b[0m file \u001b[38;5;241m=\u001b[39m \u001b[43mbuiltins\u001b[49m\u001b[38;5;241;43m.\u001b[39;49m\u001b[43mopen\u001b[49m\u001b[43m(\u001b[49m\u001b[43mfilename\u001b[49m\u001b[43m,\u001b[49m\u001b[43m \u001b[49m\u001b[43mmode\u001b[49m\u001b[43m,\u001b[49m\u001b[43m \u001b[49m\u001b[43mbuffering\u001b[49m\u001b[43m)\u001b[49m\n\u001b[0;32m    906\u001b[0m \u001b[38;5;28;01mif\u001b[39;00m encoding \u001b[38;5;129;01mis\u001b[39;00m \u001b[38;5;28;01mNone\u001b[39;00m:\n\u001b[0;32m    907\u001b[0m     \u001b[38;5;28;01mreturn\u001b[39;00m file\n",
      "\u001b[1;31mTypeError\u001b[0m: expected str, bytes or os.PathLike object, not tuple"
     ]
    }
   ],
   "source": [
    "import csv\n",
    "import codecs\n",
    "\n",
    "def read_csv_file(filename):   \n",
    "        table=[]\n",
    "        read_ka_obj = csv.reader(codecs.open((filename , 'ANSI' )))\n",
    "        for row in read_ka_obj:\n",
    "            table.append(row)\n",
    "        return table\n",
    "\n",
    "\n",
    "def write_csv():\n",
    "    pass\n",
    "read_csv_file(\"cancer_risk05_v4_county.csv\")\n",
    "\n"
   ]
  },
  {
   "cell_type": "code",
   "execution_count": 30,
   "id": "e698cab4",
   "metadata": {},
   "outputs": [
    {
     "ename": "UnicodeDecodeError",
     "evalue": "'charmap' codec can't decode byte 0x90 in position 1132: character maps to <undefined>",
     "output_type": "error",
     "traceback": [
      "\u001b[1;31m---------------------------------------------------------------------------\u001b[0m",
      "\u001b[1;31mUnicodeDecodeError\u001b[0m                        Traceback (most recent call last)",
      "Input \u001b[1;32mIn [30]\u001b[0m, in \u001b[0;36m<cell line: 73>\u001b[1;34m()\u001b[0m\n\u001b[0;32m     69\u001b[0m             \u001b[38;5;28;01mif\u001b[39;00m cancer_risk_table[row][col] \u001b[38;5;241m!=\u001b[39m cancer_risk_copy[row][col]:\n\u001b[0;32m     70\u001b[0m                 \u001b[38;5;28mprint\u001b[39m(\u001b[38;5;124m\"\u001b[39m\u001b[38;5;124mDifference at\u001b[39m\u001b[38;5;124m\"\u001b[39m, row, col, cancer_risk_table[row][col], cancer_risk_copy[row][col])\n\u001b[1;32m---> 73\u001b[0m \u001b[43mtest_part1_code\u001b[49m\u001b[43m(\u001b[49m\u001b[43m)\u001b[49m\n",
      "Input \u001b[1;32mIn [30]\u001b[0m, in \u001b[0;36mtest_part1_code\u001b[1;34m()\u001b[0m\n\u001b[0;32m     52\u001b[0m \u001b[38;5;124;03m\"\"\"\u001b[39;00m\n\u001b[0;32m     53\u001b[0m \u001b[38;5;124;03mRun examples that test the functions for part 1\u001b[39;00m\n\u001b[0;32m     54\u001b[0m \u001b[38;5;124;03m\"\"\"\u001b[39;00m\n\u001b[0;32m     56\u001b[0m \u001b[38;5;66;03m# Simple test for reader\u001b[39;00m\n\u001b[0;32m     57\u001b[0m \u001b[38;5;66;03m#test_table = read_csv_file(\"test_case.csv\")  # create a small CSV for this test\u001b[39;00m\n\u001b[0;32m     58\u001b[0m \u001b[38;5;66;03m#print_table(test_table)\u001b[39;00m\n\u001b[0;32m     59\u001b[0m \u001b[38;5;66;03m#print()\u001b[39;00m\n\u001b[0;32m     60\u001b[0m \n\u001b[0;32m     61\u001b[0m \u001b[38;5;66;03m# Test the writer\u001b[39;00m\n\u001b[1;32m---> 62\u001b[0m cancer_risk_table \u001b[38;5;241m=\u001b[39m \u001b[43mread_csv_file\u001b[49m\u001b[43m(\u001b[49m\u001b[38;5;124;43m\"\u001b[39;49m\u001b[38;5;124;43mcancer_risk05_v4_county.csv\u001b[39;49m\u001b[38;5;124;43m\"\u001b[39;49m\u001b[43m)\u001b[49m\n\u001b[0;32m     63\u001b[0m write_csv_file(cancer_risk_table, \u001b[38;5;124m\"\u001b[39m\u001b[38;5;124mcancer_risk05_v4_county_copy.csv\u001b[39m\u001b[38;5;124m\"\u001b[39m)\n\u001b[0;32m     64\u001b[0m cancer_risk_copy \u001b[38;5;241m=\u001b[39m read_csv_file(\u001b[38;5;124m\"\u001b[39m\u001b[38;5;124mcancer_risk05_v4_county_copy.csv\u001b[39m\u001b[38;5;124m\"\u001b[39m)\n",
      "Input \u001b[1;32mIn [30]\u001b[0m, in \u001b[0;36mread_csv_file\u001b[1;34m(file_name)\u001b[0m\n\u001b[0;32m     31\u001b[0m     csv_table \u001b[38;5;241m=\u001b[39m []\n\u001b[0;32m     32\u001b[0m     csv_reader \u001b[38;5;241m=\u001b[39m csv\u001b[38;5;241m.\u001b[39mreader(csv_file, delimiter\u001b[38;5;241m=\u001b[39m\u001b[38;5;124m'\u001b[39m\u001b[38;5;124m,\u001b[39m\u001b[38;5;124m'\u001b[39m)\n\u001b[1;32m---> 33\u001b[0m     \u001b[38;5;28;01mfor\u001b[39;00m row \u001b[38;5;129;01min\u001b[39;00m csv_reader:\n\u001b[0;32m     34\u001b[0m         csv_table\u001b[38;5;241m.\u001b[39mappend(row)\n\u001b[0;32m     35\u001b[0m \u001b[38;5;28;01mreturn\u001b[39;00m csv_table\n",
      "File \u001b[1;32m~\\AppData\\Local\\Programs\\Python\\Python39\\lib\\encodings\\cp1252.py:23\u001b[0m, in \u001b[0;36mIncrementalDecoder.decode\u001b[1;34m(self, input, final)\u001b[0m\n\u001b[0;32m     22\u001b[0m \u001b[38;5;28;01mdef\u001b[39;00m \u001b[38;5;21mdecode\u001b[39m(\u001b[38;5;28mself\u001b[39m, \u001b[38;5;28minput\u001b[39m, final\u001b[38;5;241m=\u001b[39m\u001b[38;5;28;01mFalse\u001b[39;00m):\n\u001b[1;32m---> 23\u001b[0m     \u001b[38;5;28;01mreturn\u001b[39;00m \u001b[43mcodecs\u001b[49m\u001b[38;5;241;43m.\u001b[39;49m\u001b[43mcharmap_decode\u001b[49m\u001b[43m(\u001b[49m\u001b[38;5;28;43minput\u001b[39;49m\u001b[43m,\u001b[49m\u001b[38;5;28;43mself\u001b[39;49m\u001b[38;5;241;43m.\u001b[39;49m\u001b[43merrors\u001b[49m\u001b[43m,\u001b[49m\u001b[43mdecoding_table\u001b[49m\u001b[43m)\u001b[49m[\u001b[38;5;241m0\u001b[39m]\n",
      "\u001b[1;31mUnicodeDecodeError\u001b[0m: 'charmap' codec can't decode byte 0x90 in position 1132: character maps to <undefined>"
     ]
    }
   ],
   "source": [
    "\"\"\"\n",
    "Week 3 practice project solution for Python Data Analysis\n",
    "Reading and writing CSV files using lists\n",
    "\"\"\"\n",
    "\n",
    "import csv\n",
    "\n",
    "\n",
    "\n",
    "#########################################################\n",
    "# Part 1 - Week 3\n",
    "\n",
    "\n",
    "\n",
    "def print_table(table):\n",
    "    \"\"\"\n",
    "    Echo a nested list to the console\n",
    "    \"\"\"\n",
    "    for row in table:\n",
    "        print(row) \n",
    "\n",
    "\n",
    "def read_csv_file(file_name):\n",
    "    \"\"\"\n",
    "    Given a CSV file, read the data into a nested list\n",
    "    Input: String corresponding to comma-separated  CSV file\n",
    "    Output: Nested list consisting of the fields in the CSV file\n",
    "    \"\"\" \n",
    "       \n",
    "    with open(file_name, newline='') as csv_file:       # don't need to explicitly close the file now\n",
    "        csv_table = []\n",
    "        csv_reader = csv.reader(csv_file, delimiter=',')\n",
    "        for row in csv_reader:\n",
    "            csv_table.append(row)\n",
    "    return csv_table\n",
    "\n",
    "\n",
    "\n",
    "def write_csv_file(csv_table, file_name):\n",
    "    \"\"\"\n",
    "    Input: Nested list csv_table and a string file_name\n",
    "    Action: Write fields in csv_table into a comma-separated CSV file with the name file_name\n",
    "    \"\"\"\n",
    "    \n",
    "    with open(file_name, 'w', newline='') as csv_file:\n",
    "        csv_writer = csv.writer(csv_file, delimiter=',', quoting=csv.QUOTE_MINIMAL)\n",
    "        for row in csv_table:\n",
    "            csv_writer.writerow(row)\n",
    "\n",
    "        \n",
    "def test_part1_code():\n",
    "    \"\"\"\n",
    "    Run examples that test the functions for part 1\n",
    "    \"\"\"\n",
    "    \n",
    "    # Simple test for reader\n",
    "    #test_table = read_csv_file(\"test_case.csv\")  # create a small CSV for this test\n",
    "    #print_table(test_table)\n",
    "    #print()\n",
    "\n",
    "    # Test the writer\n",
    "    cancer_risk_table = read_csv_file(\"cancer_risk05_v4_county.csv\")\n",
    "    write_csv_file(cancer_risk_table, \"cancer_risk05_v4_county_copy.csv\")\n",
    "    cancer_risk_copy = read_csv_file(\"cancer_risk05_v4_county_copy.csv\")\n",
    "    \n",
    "    # Test whether two tables are the same\n",
    "    for row in range(len(cancer_risk_table)):\n",
    "        for col in range(len(cancer_risk_table[0])):\n",
    "            if cancer_risk_table[row][col] != cancer_risk_copy[row][col]:\n",
    "                print(\"Difference at\", row, col, cancer_risk_table[row][col], cancer_risk_copy[row][col])\n",
    "\n",
    "\n",
    "test_part1_code()\n",
    "\n",
    "\n"
   ]
  },
  {
   "cell_type": "code",
   "execution_count": null,
   "id": "2c6e54de",
   "metadata": {},
   "outputs": [],
   "source": [
    "import csv\n",
    "\n",
    "def "
   ]
  }
 ],
 "metadata": {
  "kernelspec": {
   "display_name": "Python 3 (ipykernel)",
   "language": "python",
   "name": "python3"
  },
  "language_info": {
   "codemirror_mode": {
    "name": "ipython",
    "version": 3
   },
   "file_extension": ".py",
   "mimetype": "text/x-python",
   "name": "python",
   "nbconvert_exporter": "python",
   "pygments_lexer": "ipython3",
   "version": "3.9.7"
  }
 },
 "nbformat": 4,
 "nbformat_minor": 5
}
