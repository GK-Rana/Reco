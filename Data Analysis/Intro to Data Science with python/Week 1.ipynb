{
 "cells": [
  {
   "cell_type": "code",
   "execution_count": 1,
   "id": "a245fa1c",
   "metadata": {},
   "outputs": [
    {
     "data": {
      "text/plain": [
       "5.0"
      ]
     },
     "execution_count": 1,
     "metadata": {},
     "output_type": "execute_result"
    }
   ],
   "source": [
    "alpha = [{'a':1,'b':2,'c':3},{'a':1,'b':22,'c':3},{'a':1,'b':2,'c':3},{'a':1,'b':31,'c':3},{'a':1,'b':2,'c':3},]\n",
    "sum(float(d['a']) for d in alpha)"
   ]
  },
  {
   "cell_type": "code",
   "execution_count": 5,
   "id": "a88801e7",
   "metadata": {},
   "outputs": [
    {
     "data": {
      "text/plain": [
       "{2, 22, 31}"
      ]
     },
     "execution_count": 5,
     "metadata": {},
     "output_type": "execute_result"
    }
   ],
   "source": [
    "set(d['b'] for d in alpha)  #creates a tuple of unique elements from the list"
   ]
  },
  {
   "cell_type": "code",
   "execution_count": 10,
   "id": "a4f3984e",
   "metadata": {},
   "outputs": [
    {
     "name": "stdout",
     "output_type": "stream",
     "text": [
      "2022-04-11 09:22:36.635500\n",
      "2022 4 11 9 22 36\n",
      "100 days, 0:00:00\n",
      "2022-01-01\n"
     ]
    }
   ],
   "source": [
    "import datetime as dt\n",
    "import time as tm\n",
    "\n",
    "tm.time()\n",
    "dtnow = dt.datetime.fromtimestamp(tm.time())\n",
    "print(dtnow)\n",
    "print(dtnow.year, dtnow.month, dtnow.day, dtnow.hour, dtnow.minute, dtnow.second)\n",
    "\n",
    "delta = dt.timedelta(days=100)\n",
    "print(delta)\n",
    "today = dt.date.today()\n",
    "print(today-delta)"
   ]
  },
  {
   "cell_type": "code",
   "execution_count": null,
   "id": "94a8938e",
   "metadata": {},
   "outputs": [],
   "source": []
  }
 ],
 "metadata": {
  "kernelspec": {
   "display_name": "Python 3 (ipykernel)",
   "language": "python",
   "name": "python3"
  },
  "language_info": {
   "codemirror_mode": {
    "name": "ipython",
    "version": 3
   },
   "file_extension": ".py",
   "mimetype": "text/x-python",
   "name": "python",
   "nbconvert_exporter": "python",
   "pygments_lexer": "ipython3",
   "version": "3.9.7"
  }
 },
 "nbformat": 4,
 "nbformat_minor": 5
}
