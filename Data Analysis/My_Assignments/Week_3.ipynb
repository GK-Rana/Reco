{
 "cells": [
  {
   "cell_type": "markdown",
   "id": "12b3ecdb",
   "metadata": {},
   "source": [
    "Problem 1"
   ]
  },
  {
   "cell_type": "code",
   "execution_count": 24,
   "id": "506e2580",
   "metadata": {
    "scrolled": true
   },
   "outputs": [
    {
     "name": "stdout",
     "output_type": "stream",
     "text": [
      "[['City', 'Jan', 'Feb', 'Mar', 'Apr', 'May', 'Jun', 'Jul', 'Aug', 'Sep', 'Oct', 'Nov', 'Dec']]\n"
     ]
    }
   ],
   "source": [
    "import csv\n",
    "def read_csv_fieldnames(filename, separator, quote):\n",
    "    \"\"\"\n",
    "    Inputs:\n",
    "      filename  - name of CSV file\n",
    "      separator - character that separates fields\n",
    "      quote     - character used to optionally quote fields\n",
    "    Output:\n",
    "      A list of strings corresponding to the field names in \n",
    "      the given CSV file.\n",
    "    \"\"\"\n",
    "    \n",
    "    with open(filename) as csv_file:\n",
    "        table = []\n",
    "        file_reader = csv.reader(csv_file, delimiter=separator, quotechar=quote)\n",
    "        for row in file_reader:\n",
    "            table.append(row)\n",
    "            break\n",
    "    return table\n",
    "\n",
    "print(read_csv_fieldnames(\"hightemp.csv\", ',',\"'\"))"
   ]
  },
  {
   "cell_type": "markdown",
   "id": "79700021",
   "metadata": {},
   "source": [
    "Problem 2"
   ]
  },
  {
   "cell_type": "code",
   "execution_count": 22,
   "id": "2f97e896",
   "metadata": {},
   "outputs": [
    {
     "name": "stdout",
     "output_type": "stream",
     "text": [
      "[{'City': 'Houston', 'Jan': '62', 'Feb': '65', 'Mar': '72', 'Apr': '78', 'May': '84', 'Jun': '90', 'Jul': '92', 'Aug': '93', 'Sep': '88', 'Oct': '81', 'Nov': '71', 'Dec': '63'}, {'City': 'Baghdad', 'Jan': '61', 'Feb': '66', 'Mar': '75', 'Apr': '86', 'May': '97', 'Jun': '108', 'Jul': '111', 'Aug': '111', 'Sep': '104', 'Oct': '91', 'Nov': '75', 'Dec': '64'}, {'City': 'Moscow', 'Jan': '21', 'Feb': '25', 'Mar': '36', 'Apr': '50', 'May': '64', 'Jun': '72', 'Jul': '73', 'Aug': '70', 'Sep': '59', 'Oct': '46', 'Nov': '34', 'Dec': '25'}, {'City': 'San Francisco', 'Jan': '57', 'Feb': '60', 'Mar': '62', 'Apr': '63', 'May': '64', 'Jun': '66', 'Jul': '67', 'Aug': '68', 'Sep': '70', 'Oct': '69', 'Nov': '63', 'Dec': '57'}, {'City': 'London', 'Jan': '43', 'Feb': '45', 'Mar': '50', 'Apr': '55', 'May': '63', 'Jun': '68', 'Jul': '72', 'Aug': '70', 'Sep': '66', 'Oct': '57', 'Nov': '50', 'Dec': '45'}, {'City': 'Chicago', 'Jan': '32', 'Feb': '36', 'Mar': '46', 'Apr': '59', 'May': '70', 'Jun': '81', 'Jul': '84', 'Aug': '82', 'Sep': '75', 'Oct': '63', 'Nov': '48', 'Dec': '36'}, {'City': 'Sydney', 'Jan': '79', 'Feb': '79', 'Mar': '77', 'Apr': '73', 'May': '68', 'Jun': '64', 'Jul': '63', 'Aug': '64', 'Sep': '68', 'Oct': '72', 'Nov': '75', 'Dec': '79'}, {'City': 'Paris', 'Jan': '45', 'Feb': '46', 'Mar': '54', 'Apr': '61', 'May': '68', 'Jun': '73', 'Jul': '77', 'Aug': '77', 'Sep': '70', 'Oct': '61', 'Nov': '52', 'Dec': '46'}, {'City': 'Tokyo', 'Jan': '46', 'Feb': '48', 'Mar': '54', 'Apr': '63', 'May': '70', 'Jun': '75', 'Jul': '82', 'Aug': '84', 'Sep': '79', 'Oct': '68', 'Nov': '59', 'Dec': '52'}, {'City': 'Shanghai', 'Jan': '46', 'Feb': '48', 'Mar': '55', 'Apr': '66', 'May': '75', 'Jun': '81', 'Jul': '90', 'Aug': '90', 'Sep': '81', 'Oct': '72', 'Nov': '63', 'Dec': '52'}]\n"
     ]
    }
   ],
   "source": [
    "def read_csv_as_list_dict(filename, separator, quote):\n",
    "    \"\"\"\n",
    "    Inputs:\n",
    "      filename  - name of CSV file\n",
    "      separator - character that separates fields\n",
    "      quote     - character used to optionally quote fields\n",
    "    Output:\n",
    "      Returns a list of dictionaries where each item in the list\n",
    "      corresponds to a row in the CSV file.  The dictionaries in the\n",
    "      list map the field names to the field values for that row.\n",
    "    \"\"\"\n",
    "    with open(filename) as csv_file:\n",
    "        table2 = []\n",
    "        file_reader = csv.DictReader(csv_file, delimiter=separator, quotechar=quote)\n",
    "        for row in file_reader:\n",
    "            table2.append(row)\n",
    "        return table2    \n",
    "    \n",
    "print(read_csv_as_list_dict(\"hightemp.csv\", ',',\"'\"))"
   ]
  },
  {
   "cell_type": "raw",
   "id": "3eb8896b",
   "metadata": {},
   "source": [
    "Problem 3"
   ]
  },
  {
   "cell_type": "code",
   "execution_count": 37,
   "id": "2c545ba8",
   "metadata": {},
   "outputs": [
    {
     "name": "stdout",
     "output_type": "stream",
     "text": [
      "City                   Jan   Feb   Mar   Apr   May   Jun   Jul   Aug   Sep   Oct   Nov   Dec\n",
      "Houston                62    65    72    78    84    90    92    93    88    81    71    63\n",
      "Baghdad                61    66    75    86    97   108   111   111   104    91    75    64\n",
      "Moscow                 21    25    36    50    64    72    73    70    59    46    34    25\n",
      "San Francisco          57    60    62    63    64    66    67    68    70    69    63    57\n",
      "London                 43    45    50    55    63    68    72    70    66    57    50    45\n",
      "Chicago                32    36    46    59    70    81    84    82    75    63    48    36\n",
      "Sydney                 79    79    77    73    68    64    63    64    68    72    75    79\n",
      "Paris                  45    46    54    61    68    73    77    77    70    61    52    46\n",
      "Tokyo                  46    48    54    63    70    75    82    84    79    68    59    52\n",
      "Shanghai               46    48    55    66    75    81    90    90    81    72    63    52\n"
     ]
    }
   ],
   "source": [
    "def read_csv_as_nested_dict(filename, keyfield, separator, quote):\n",
    "    \"\"\"\n",
    "    Inputs:\n",
    "      filename  - name of CSV file\n",
    "      keyfield  - field to use as key for rows\n",
    "      separator - character that separates fields\n",
    "      quote     - character used to optionally quote fields\n",
    "    Output:\n",
    "      Returns a dictionary of dictionaries where the outer dictionary\n",
    "      maps the value in the key_field to the corresponding row in the\n",
    "      CSV file.  The inner dictionaries map the field names to the \n",
    "      field values for that row.\n",
    "    \"\"\"\n",
    "    \n",
    "    with open(filename) as csv_file:\n",
    "        table3 = {}\n",
    "        file_reader = csv.DictReader(csv_file, delimiter=separator, quotechar=quote)\n",
    "        for row in file_reader:\n",
    "            table3[row[keyfield]] = row\n",
    "        return table3\n",
    "\n",
    "# method to print the table in a clean manner\n",
    "months = ['Jan','Feb','Mar','Apr','May','Jun','Jul','Aug','Sep','Oct','Nov','Dec']\n",
    "def print_table(table):\n",
    "    print(\"City                \", end='')\n",
    "    for month in months:\n",
    "        print(\"{:>6}\".format(month), end='')\n",
    "    print(\"\")\n",
    "    for name, row in table.items():\n",
    "        print(\"{:<19}\".format(name), end='')\n",
    "        for month in months:\n",
    "            print(\"{:>6}\".format(row[month]), end='')\n",
    "        print(\"\",end='\\n')         \n",
    "    \n",
    "table3 = read_csv_as_nested_dict(\"hightemp.csv\", 'City', ',', \"'\")\n",
    "print_table(table3)"
   ]
  },
  {
   "cell_type": "raw",
   "id": "4880227e",
   "metadata": {},
   "source": [
    "Problem 4"
   ]
  },
  {
   "cell_type": "code",
   "execution_count": 43,
   "id": "bf5c3685",
   "metadata": {},
   "outputs": [],
   "source": [
    "def write_csv_from_list_dict(filename, table, fieldnames, separator, quote):\n",
    "    \"\"\"\n",
    "    Inputs:\n",
    "      filename   - name of CSV file\n",
    "      table      - list of dictionaries containing the table to write\n",
    "      fieldnames - list of strings corresponding to the field names in order\n",
    "      separator  - character that separates fields\n",
    "      quote      - character used to optionally quote fields\n",
    "    Output:\n",
    "      Writes the table to a CSV file with the name filename, using the\n",
    "      given fieldnames.  The CSV file should use the given separator and\n",
    "      quote characters.  All non-numeric fields will be quoted.\n",
    "    \"\"\"\n",
    "    # opening the file in write mode\n",
    "    with open(filename, 'w', newline='') as csvfile:\n",
    "        csv_writer =  csv.writer(csvfile, delimiter = separator,  quoting = quote)\n",
    "        # writing the fieldnames in the file\n",
    "        csv_writer.writerow(fieldnames)\n",
    "        # writing corresponding values of rows below the fieldnames in the file\n",
    "        for row in table:\n",
    "            csv_writer.writerow(row.values())\n",
    "\n",
    "fieldnames = ['City','Jan','Feb','Mar','Apr','May','Jun','Jul','Aug','Sep','Oct','Nov','Dec']\n",
    "write_csv_from_list_dict(\"output_file.csv\", table2, fieldnames , ',', csv.QUOTE_NONNUMERIC)\n",
    "    \n",
    "    "
   ]
  },
  {
   "cell_type": "code",
   "execution_count": null,
   "id": "1ff70efd",
   "metadata": {},
   "outputs": [],
   "source": []
  }
 ],
 "metadata": {
  "kernelspec": {
   "display_name": "Python 3 (ipykernel)",
   "language": "python",
   "name": "python3"
  },
  "language_info": {
   "codemirror_mode": {
    "name": "ipython",
    "version": 3
   },
   "file_extension": ".py",
   "mimetype": "text/x-python",
   "name": "python",
   "nbconvert_exporter": "python",
   "pygments_lexer": "ipython3",
   "version": "3.9.7"
  }
 },
 "nbformat": 4,
 "nbformat_minor": 5
}
