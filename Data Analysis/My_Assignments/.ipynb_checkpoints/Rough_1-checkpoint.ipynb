{
 "cells": [
  {
   "cell_type": "code",
   "execution_count": null,
   "id": "67cf02c4-6eed-476e-a393-a3bbedc3e5cc",
   "metadata": {},
   "outputs": [],
   "source": [
    "baseballdatainfo = {\n",
    "    \"masterfile\": \"Master_2016.csv\",   # Name of Master CSV file\n",
    "    \"battingfile\": \"Batting_2016.csv\", # Name of Batting CSV file\n",
    "    \"separator\": \",\",                  # Separator character in CSV files\n",
    "    \"quote\": '\"',                      # Quote character in CSV files\n",
    "    \"playerid\": \"playerID\",            # Player ID field name\n",
    "    \"firstname\": \"nameFirst\",          # First name field name\n",
    "    \"lastname\": \"nameLast\",            # Last name field name\n",
    "    \"yearid\": \"yearID\",                # Year field name\n",
    "    \"atbats\": \"AB\",                    # At bats field name\n",
    "    \"hits\": \"H\",                       # Hits field name\n",
    "    \"doubles\": \"2B\",                   # Doubles field name\n",
    "    \"triples\": \"3B\",                   # Triples field name\n",
    "    \"homeruns\": \"HR\",                  # Home runs field name\n",
    "    \"walks\": \"BB\",                     # Walks field name\n",
    "    \"battingfields\": [\"AB\", \"H\", \"2B\", \"3B\", \"HR\", \"BB\"]\n",
    "}\n",
    "\n",
    "statistics = []  # batting_2016.csv file extracted as list_of_dictionaries\n",
    "with open(baseballdatainfo['battingfile'], newline='') as csvfile:\n",
    "    csvreader = csv.DictReader(csvfile, delimiter=',', quotechar=\"'\")\n",
    "    for row in csvreader:\n",
    "        statistics.append(row)\n",
    "        \n",
    "        \n",
    "player_names = []\n",
    "with open(baseballdatainfo['masterfile'], newline = '') as master_file:\n",
    "    master_reader = csv.DictReader(master_file, delimiter=',', quotechar = \"'\")\n",
    "    for row in master_reader:\n",
    "        player_names.append(row) "
   ]
  },
  {
   "cell_type": "code",
   "execution_count": null,
   "id": "1e06a060-f22d-4227-a185-bbb989060e25",
   "metadata": {},
   "outputs": [],
   "source": [
    "\n",
    "# Typical cutoff used for official statistics\n",
    "MINIMUM_AB = 500\n",
    "\n",
    "def batting_average(info, batting_stats):\n",
    "    \"\"\"\n",
    "    Inputs:\n",
    "      batting_stats - dictionary of batting statistics (values are strings)\n",
    "    Output:\n",
    "      Returns the batting average as a float\n",
    "    \"\"\"\n",
    "    hits = float(batting_stats[info[\"hits\"]])\n",
    "    at_bats = float(batting_stats[info[\"atbats\"]])\n",
    "    if at_bats >= MINIMUM_AB:\n",
    "        return hits / at_bats\n",
    "    else:\n",
    "        return 0\n",
    "\n",
    "def onbase_percentage(info, batting_stats):\n",
    "    \"\"\"\n",
    "    Inputs:\n",
    "      batting_stats - dictionary of batting statistics (values are strings)\n",
    "    Output:\n",
    "      Returns the on-base percentage as a float\n",
    "    \"\"\"\n",
    "    hits = float(batting_stats[info[\"hits\"]])\n",
    "    at_bats = float(batting_stats[info[\"atbats\"]])\n",
    "    walks = float(batting_stats[info[\"walks\"]])\n",
    "    if at_bats >= MINIMUM_AB:\n",
    "        return (hits + walks) / (at_bats + walks)\n",
    "    else:\n",
    "        return 0\n",
    "\n",
    "def slugging_percentage(info, batting_stats):\n",
    "    \"\"\"\n",
    "    Inputs:\n",
    "      batting_stats - dictionary of batting statistics (values are strings)\n",
    "    Output:\n",
    "      Returns the slugging percentage as a float\n",
    "    \"\"\"\n",
    "    hits = float(batting_stats[info[\"hits\"]])\n",
    "    doubles = float(batting_stats[info[\"doubles\"]])\n",
    "    triples = float(batting_stats[info[\"triples\"]])\n",
    "    home_runs = float(batting_stats[info[\"homeruns\"]])\n",
    "    singles = hits - doubles - triples - home_runs\n",
    "    at_bats = float(batting_stats[info[\"atbats\"]])\n",
    "    if at_bats >= MINIMUM_AB:\n",
    "        return (singles + 2 * doubles + 3 * triples + 4 * home_runs) / at_bats\n",
    "    else:\n",
    "        return 0"
   ]
  },
  {
   "cell_type": "markdown",
   "id": "9a23ab89-358d-4095-8b4b-defbc2995e22",
   "metadata": {},
   "source": [
    "# 1st function"
   ]
  },
  {
   "cell_type": "code",
   "execution_count": null,
   "id": "367b3587",
   "metadata": {},
   "outputs": [],
   "source": [
    "\n",
    "import csv\n",
    "\n",
    "def filter_by_year(statistics, year, yearid):\n",
    "    filtered_stats = []\n",
    "    for row in statistics:\n",
    "        if year == int(row[yearid]): # Comparing every row's year to the input year value\n",
    "            filtered_stats.append(row) # Appending row, belonging to the input year\n",
    "    return filtered_stats       \n",
    "\n",
    "filter_by_year(statistics, 1935, \"yearID\") # filters list of dictionaries are 513 for year 1935\n",
    "\n"
   ]
  },
  {
   "cell_type": "markdown",
   "id": "903fd9ce",
   "metadata": {},
   "source": [
    "## 2nd function"
   ]
  },
  {
   "cell_type": "code",
   "execution_count": 100,
   "id": "a41d761f",
   "metadata": {},
   "outputs": [
    {
     "ename": "TypeError",
     "evalue": "string indices must be integers",
     "output_type": "error",
     "traceback": [
      "\u001b[1;31m---------------------------------------------------------------------------\u001b[0m",
      "\u001b[1;31mTypeError\u001b[0m                                 Traceback (most recent call last)",
      "Input \u001b[1;32mIn [100]\u001b[0m, in \u001b[0;36m<cell line: 57>\u001b[1;34m()\u001b[0m\n\u001b[0;32m     53\u001b[0m         top_ids_and_stats\u001b[38;5;241m.\u001b[39mappend(player_list_of_tuple[x])\n\u001b[0;32m     55\u001b[0m     \u001b[38;5;28;01mreturn\u001b[39;00m (top_ids_and_stats)\n\u001b[1;32m---> 57\u001b[0m top_ids_and_stats \u001b[38;5;241m=\u001b[39m \u001b[43mtop_player_ids\u001b[49m\u001b[43m(\u001b[49m\u001b[43mbaseballdatainfo\u001b[49m\u001b[43m,\u001b[49m\u001b[43m \u001b[49m\u001b[43mstatistics\u001b[49m\u001b[43m,\u001b[49m\u001b[43m \u001b[49m\u001b[43monbase_percentage\u001b[49m\u001b[43m,\u001b[49m\u001b[43m  \u001b[49m\u001b[38;5;241;43m10\u001b[39;49m\u001b[43m)\u001b[49m\n",
      "Input \u001b[1;32mIn [100]\u001b[0m, in \u001b[0;36mtop_player_ids\u001b[1;34m(info, statistics, onbase_percentage, numplayers)\u001b[0m\n\u001b[0;32m     40\u001b[0m \u001b[38;5;28;01mfor\u001b[39;00m row \u001b[38;5;129;01min\u001b[39;00m statistics:\n\u001b[0;32m     41\u001b[0m     playerid_list\u001b[38;5;241m.\u001b[39mappend(row[info[\u001b[38;5;124m'\u001b[39m\u001b[38;5;124mplayerid\u001b[39m\u001b[38;5;124m'\u001b[39m]])\n\u001b[1;32m---> 42\u001b[0m     stats_list\u001b[38;5;241m.\u001b[39mappend(\u001b[43monbase_percentage\u001b[49m\u001b[43m(\u001b[49m\u001b[43minfo\u001b[49m\u001b[43m,\u001b[49m\u001b[43m \u001b[49m\u001b[43mstatistics\u001b[49m\u001b[43m)\u001b[49m)\n\u001b[0;32m     44\u001b[0m \u001b[38;5;66;03m# building the list of tuples\u001b[39;00m\n\u001b[0;32m     45\u001b[0m player_list_of_tuple \u001b[38;5;241m=\u001b[39m \u001b[38;5;28mlist\u001b[39m(\u001b[38;5;28mmap\u001b[39m(\u001b[38;5;28;01mlambda\u001b[39;00m player, stats : (player, stats), playerid_list, stats_list)) \n",
      "Input \u001b[1;32mIn [100]\u001b[0m, in \u001b[0;36monbase_percentage\u001b[1;34m(info, batting_stats)\u001b[0m\n\u001b[0;32m     27\u001b[0m \u001b[38;5;28;01mdef\u001b[39;00m \u001b[38;5;21monbase_percentage\u001b[39m(info, batting_stats):\n\u001b[1;32m---> 28\u001b[0m     hits \u001b[38;5;241m=\u001b[39m \u001b[38;5;28mfloat\u001b[39m(\u001b[43mrow\u001b[49m\u001b[43m[\u001b[49m\u001b[43minfo\u001b[49m\u001b[43m[\u001b[49m\u001b[38;5;124;43m\"\u001b[39;49m\u001b[38;5;124;43mhits\u001b[39;49m\u001b[38;5;124;43m\"\u001b[39;49m\u001b[43m]\u001b[49m\u001b[43m]\u001b[49m)\n\u001b[0;32m     29\u001b[0m     at_bats \u001b[38;5;241m=\u001b[39m \u001b[38;5;28mfloat\u001b[39m(row[info[\u001b[38;5;124m\"\u001b[39m\u001b[38;5;124matbats\u001b[39m\u001b[38;5;124m\"\u001b[39m]])\n\u001b[0;32m     30\u001b[0m     walks \u001b[38;5;241m=\u001b[39m \u001b[38;5;28mfloat\u001b[39m(row[info[\u001b[38;5;124m\"\u001b[39m\u001b[38;5;124mwalks\u001b[39m\u001b[38;5;124m\"\u001b[39m]])\n",
      "\u001b[1;31mTypeError\u001b[0m: string indices must be integers"
     ]
    }
   ],
   "source": [
    "MINIMUM_AB = 500\n",
    "\n",
    "def slugging_percentage(info, batting_stats):\n",
    "    \n",
    "    #     hits = float(batting_stats[info[\"hits\"]])\n",
    "    #     doubles = float(batting_stats[info[\"doubles\"]])\n",
    "    #     triples = float(batting_stats[info[\"triples\"]])\n",
    "    #     home_runs = float(batting_stats[info[\"homeruns\"]])\n",
    "    #     singles = hits - doubles - triples - home_runs\n",
    "    #     at_bats = float(batting_stats[info[\"atbats\"]])\n",
    "    \n",
    "    stats_list = []\n",
    "    for row in batting_stats:\n",
    "        hits = float(row[info[\"hits\"]])\n",
    "        doubles = float(row[info[\"doubles\"]])\n",
    "        triples = float(row[info[\"triples\"]])\n",
    "        home_runs = float(row[info[\"homeruns\"]])\n",
    "        singles = hits - doubles - triples - home_runs\n",
    "        at_bats = float(row[info[\"atbats\"]])\n",
    "        \n",
    "        if (at_bats >= MINIMUM_AB):\n",
    "            stats_list.append(float((singles + 2 * doubles + 3 * triples + 4 * home_runs) / (at_bats)))\n",
    "    \n",
    "    return stats_list   \n",
    "       \n",
    "def top_player_ids(info, statistics, onbase_percentage, numplayers):\n",
    "    # preparing list of playerid and list of stats\n",
    "    playerid_list = []\n",
    "    stats_list = []\n",
    "    for row in statistics:\n",
    "        playerid_list.append(row[info['playerid']])\n",
    "        stats_list.append(onbase_percentage(info, row))\n",
    "    \n",
    "    # building the list of tuples\n",
    "    player_list_of_tuple = list(map(lambda player, stats : (player, stats), playerid_list, stats_list)) \n",
    "\n",
    "    # reversing the obtained list of tuples based on the stats value\n",
    "    player_list_of_tuple.sort(key = lambda x:x[1], reverse=True)   \n",
    "    \n",
    "    # extracting the top 10 players from the obtained list of tuples\n",
    "    top_ids_and_stats = []\n",
    "    for x in range(numplayers):\n",
    "        top_ids_and_stats.append(player_list_of_tuple[x])\n",
    "        \n",
    "    return (top_ids_and_stats)\n",
    "\n",
    "top_ids_and_stats = top_player_ids(baseballdatainfo, statistics, onbase_percentage,  10)       \n"
   ]
  },
  {
   "cell_type": "markdown",
   "id": "c5d57bd3",
   "metadata": {},
   "source": [
    "# 3rd function"
   ]
  },
  {
   "cell_type": "code",
   "execution_count": null,
   "id": "0fbf468f",
   "metadata": {},
   "outputs": [],
   "source": [
    "\n",
    "def lookup_player_names(info, top_ids_and_stats):\n",
    "    player_names = []\n",
    "    with open(\"Master_2016.csv\", newline = '') as master_file:\n",
    "        master_reader = csv.DictReader(master_file, delimiter=',', quotechar = \"'\")\n",
    "        for row in master_reader:\n",
    "            for id in top_ids_and_stats:\n",
    "                if id[0] == row[info['playerid']]:\n",
    "                    player_names.append(str(f'{id[1]:.3f}')+\" --- \" + row[info['firstname']]+ \" \" + row[info['lastname']])  \n",
    "    \n",
    "    return player_names\n",
    "print(lookup_player_names(baseballdatainfo, top_ids_and_stats))"
   ]
  },
  {
   "cell_type": "markdown",
   "id": "8df28ac4",
   "metadata": {},
   "source": [
    "# 4th function"
   ]
  },
  {
   "cell_type": "code",
   "execution_count": null,
   "id": "39fe1a63",
   "metadata": {},
   "outputs": [],
   "source": [
    "def compute_top_stats_year(info, formula, numplayers, year):\n",
    "    yearbased_list_of_dictionary = []\n",
    "    for row in statistics:\n",
    "        if int(row['yearID']) == year:\n",
    "            yearbased_list_of_dictionary.append(row)\n",
    "    \n",
    "    list_of_top_players_by_year = []\n",
    "    for row in yearbased_list_of_dictionary:\n",
    "#             list_of_top_players_by_year.append(slugging_percentage(baseballdatainfo, yearbased_list_of_dictionary))\n",
    "        stat = f'{slugging_percentage(baseballdatainfo, row):.5f}'\n",
    "        with open(\"Master_2016.csv\", newline = '') as master_file:\n",
    "            master_reader = csv.DictReader(master_file, delimiter=',', quotechar = \"'\")\n",
    "            for row2 in master_reader:\n",
    "                if row2[info['playerid']] == row[info['playerid']]:\n",
    "                    list_of_top_players_by_year.append(str(stat)+\" --- \" + row2[info['firstname']]+ \" \" + row2[info['lastname']])  \n",
    "\n",
    "    return list_of_top_players_by_year\n",
    "\n",
    "xyz = compute_top_stats_year(baseballdatainfo, slugging_percentage, 20, 1936)"
   ]
  },
  {
   "cell_type": "markdown",
   "id": "8862b0a7",
   "metadata": {
    "tags": []
   },
   "source": [
    "# 5th function"
   ]
  },
  {
   "cell_type": "code",
   "execution_count": null,
   "id": "27aa5275",
   "metadata": {
    "scrolled": true
   },
   "outputs": [],
   "source": [
    "def aggregate_by_player_id(statistics, playerid, fields):\n",
    "    aggregate_fields = {playerid:{'AB':0, 'H':0, '2B':0, '3B':0, 'HR':0, 'BB':0}}\n",
    "\n",
    "    for row in statistics:\n",
    "        if row['playerID'] == playerid:            \n",
    "            for field in fields:\n",
    "                   aggregate_fields[playerid][baseballdatainfo[field]] = float(aggregate_fields[playerid][baseballdatainfo[field]]) + float(row[baseballdatainfo[field]])\n",
    "                       \n",
    "    return aggregate_fields\n",
    "print(aggregate_by_player_id(statistics, playerid, fields))"
   ]
  },
  {
   "cell_type": "markdown",
   "id": "6b73bcd4",
   "metadata": {},
   "source": [
    "# 6th function"
   ]
  },
  {
   "cell_type": "code",
   "execution_count": null,
   "id": "40b10a52",
   "metadata": {},
   "outputs": [],
   "source": [
    "def compute_top_stats_career(info, formula, numplayers):\n",
    "   \n",
    "    unique_statistics = statistics\n",
    "    player_ids = []\n",
    "    for row in statistics:\n",
    "        player_ids.append(row['playerID'])\n",
    "    player_ids = list(set(player_ids)) \n",
    "    # the set function eliminates the repititive values and creates unique values set (18915 unique IDs)\n",
    "\n",
    "    fields = ['atbats','hits', 'doubles', 'triples', 'homeruns','walks']\n",
    "    \n",
    "    career_high_score = {}\n",
    "    aggregate_fields = {} # {playerid:{'AB':0, 'H':0, '2B':0, '3B':0, 'HR':0, 'BB':0}}\n",
    "\n",
    "    for playerid in player_ids:\n",
    "        temp = aggregate_by_player_id(statistics, playerid, fields)\n",
    "        aggregate_fields[playerid] = temp[playerid]\n",
    "            for battle_stats in statistics:\n",
    "                if formula == slugging_percentage:\n",
    "                    career_high_score[playerid] =  slugging_percentage(baseballdatainfo, battle_stats)\n",
    "                elif formula == onbase_percentage:\n",
    "                    career_high_score[playerid] = onbase_percentage(baseballdatainfo, battle_stats)\n",
    "                else:\n",
    "                    career_high_score[playerid] = batting_average(baseballdatainfo, battle_stats)\n",
    "\n",
    "    list_career_high = [list(x,y) for x,y in career_high_score.items]\n",
    "    list_career_high.sort(key = lambda pair:pair[1])\n",
    "    print(list_career_high[0:numplayers])\n",
    "    return list_career_high\n",
    "\n",
    "print(compute_top_stats_career(baseballdatainfo, slugging_percentage, 20))"
   ]
  },
  {
   "cell_type": "markdown",
   "id": "3bf18db5-8abc-497e-bf3a-c246bd484aee",
   "metadata": {},
   "source": [
    "# Bhari kaam handled here"
   ]
  },
  {
   "cell_type": "code",
   "execution_count": null,
   "id": "4bde349f-858a-4819-a669-adf1621fcdb4",
   "metadata": {},
   "outputs": [],
   "source": [
    "unique_ids = []\n",
    "for row in statistics:\n",
    "    unique_ids.append(row['playerID'])\n",
    "unique_ids = list(set(unique_ids))\n",
    "# 18915 ids\n",
    "fields = ['atbats','hits', 'doubles', 'triples', 'homeruns','walks']\n",
    "aggregate_fields = {} #{playerid:{'AB':0, 'H':0, '2B':0, '3B':0, 'HR':0, 'BB':0}}\n",
    "\n",
    "\n",
    "for playerid in unique_ids:\n",
    "    for row in statistics:\n",
    "        if row['playerID'] == playerid:\n",
    "            aggregate_fields[playerid] = {'AB':0, 'H':0, '2B':0, '3B':0, 'HR':0, 'BB':0}  # creating new dict inside a dict\n",
    "            for field in fields:\n",
    "                   aggregate_fields[playerid][baseballdatainfo[field]] = float(aggregate_fields[playerid][baseballdatainfo[field]]) + float(row[baseballdatainfo[field]])\n",
    "\n",
    "print(len(aggregate_fields))        \n",
    "    \n",
    "with open('ok4.csv', 'w', newline = '') as ok_file:\n",
    "    writer = csv.writer(ok_file, delimiter=',', quotechar = \"'\")\n",
    "    # fields = baseballdatainfo['battingfields'].insert(0,'playerID')\n",
    "    # print(fields)\n",
    "    for row in aggregate_fields:\n",
    "        list_to_join = [row]\n",
    "        for field in baseballdatainfo['battingfields']:\n",
    "            list_to_join.append(aggregate_fields[row][field])\n",
    "        writer.writerow(list_to_join)"
   ]
  },
  {
   "cell_type": "code",
   "execution_count": 99,
   "id": "d680fc6e-e391-4583-890c-6c358a908597",
   "metadata": {},
   "outputs": [
    {
     "ename": "KeyError",
     "evalue": "'playerID'",
     "output_type": "error",
     "traceback": [
      "\u001b[1;31m---------------------------------------------------------------------------\u001b[0m",
      "\u001b[1;31mKeyError\u001b[0m                                  Traceback (most recent call last)",
      "Input \u001b[1;32mIn [99]\u001b[0m, in \u001b[0;36m<cell line: 1>\u001b[1;34m()\u001b[0m\n\u001b[0;32m      6\u001b[0m list_to_join \u001b[38;5;241m=\u001b[39m [row]\n\u001b[0;32m      7\u001b[0m \u001b[38;5;28;01mfor\u001b[39;00m field \u001b[38;5;129;01min\u001b[39;00m baseballdatainfo[\u001b[38;5;124m'\u001b[39m\u001b[38;5;124mbattingfields\u001b[39m\u001b[38;5;124m'\u001b[39m]:\n\u001b[1;32m----> 8\u001b[0m     list_to_join\u001b[38;5;241m.\u001b[39mappend(\u001b[43maggregate_fields\u001b[49m\u001b[43m[\u001b[49m\u001b[43mrow\u001b[49m\u001b[43m]\u001b[49m\u001b[43m[\u001b[49m\u001b[43mfield\u001b[49m\u001b[43m]\u001b[49m)\n\u001b[0;32m      9\u001b[0m writer\u001b[38;5;241m.\u001b[39mwriterow(list_to_join)\n",
      "\u001b[1;31mKeyError\u001b[0m: 'playerID'"
     ]
    }
   ],
   "source": [
    "with open('ok4.csv', 'w', newline = '') as ok_file:\n",
    "    writer = csv.writer(ok_file, delimiter=',', quotechar = \"'\")\n",
    "    # fields = baseballdatainfo['battingfields'].insert(0,'playerID')\n",
    "    # print(fields)\n",
    "    for row in aggregate_fields:\n",
    "        list_to_join = [row]\n",
    "        for field in baseballdatainfo['battingfields']:\n",
    "            list_to_join.append(aggregate_fields[row][field])\n",
    "        writer.writerow(list_to_join)"
   ]
  },
  {
   "cell_type": "markdown",
   "id": "409ac80b",
   "metadata": {},
   "source": [
    "# Testing"
   ]
  },
  {
   "cell_type": "code",
   "execution_count": null,
   "id": "a0013b33-ee9a-4a31-8460-0adf84fcd28b",
   "metadata": {},
   "outputs": [],
   "source": []
  }
 ],
 "metadata": {
  "kernelspec": {
   "display_name": "Python 3 (ipykernel)",
   "language": "python",
   "name": "python3"
  },
  "language_info": {
   "codemirror_mode": {
    "name": "ipython",
    "version": 3
   },
   "file_extension": ".py",
   "mimetype": "text/x-python",
   "name": "python",
   "nbconvert_exporter": "python",
   "pygments_lexer": "ipython3",
   "version": "3.9.7"
  }
 },
 "nbformat": 4,
 "nbformat_minor": 5
}
