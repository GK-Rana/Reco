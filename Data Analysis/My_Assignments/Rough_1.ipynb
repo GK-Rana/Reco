{
 "cells": [
  {
   "cell_type": "markdown",
   "id": "2cce22c1",
   "metadata": {},
   "source": [
    "# 1st function"
   ]
  },
  {
   "cell_type": "code",
   "execution_count": 55,
   "id": "367b3587",
   "metadata": {},
   "outputs": [
    {
     "name": "stdout",
     "output_type": "stream",
     "text": [
      "['playerID', 'yearID', 'stint', 'teamID', 'lgID', 'G', 'AB', 'R', 'H', '2B', '3B', 'HR', 'RBI', 'SB', 'CS', 'BB', 'SO', 'IBB', 'HBP', 'SH', 'SF', 'GIDP']\n"
     ]
    },
    {
     "data": {
      "text/plain": [
       "513"
      ]
     },
     "execution_count": 55,
     "metadata": {},
     "output_type": "execute_result"
    }
   ],
   "source": [
    "\n",
    "import csv\n",
    "\n",
    "def filter_by_year(statistics, year, yearid):\n",
    "    filtered_stats = []\n",
    "    for row in statistics:\n",
    "        if year == int(row[yearid]):\n",
    "            filtered_stats.append(row)\n",
    "    return len(filtered_stats)\n",
    "          \n",
    "    \n",
    "baseballdatainfo = {\n",
    "    \"masterfile\": \"Master_2016.csv\",   # Name of Master CSV file\n",
    "    \"battingfile\": \"Batting_2016.csv\", # Name of Batting CSV file\n",
    "    \"separator\": \",\",                  # Separator character in CSV files\n",
    "    \"quote\": '\"',                      # Quote character in CSV files\n",
    "    \"playerid\": \"playerID\",            # Player ID field name\n",
    "    \"firstname\": \"nameFirst\",          # First name field name\n",
    "    \"lastname\": \"nameLast\",            # Last name field name\n",
    "    \"yearid\": \"yearID\",                # Year field name\n",
    "    \"atbats\": \"AB\",                    # At bats field name\n",
    "    \"hits\": \"H\",                       # Hits field name\n",
    "    \"doubles\": \"2B\",                   # Doubles field name\n",
    "    \"triples\": \"3B\",                   # Triples field name\n",
    "    \"homeruns\": \"HR\",                  # Home runs field name\n",
    "    \"walks\": \"BB\",                     # Walks field name\n",
    "    \"battingfields\": [\"AB\", \"H\", \"2B\", \"3B\", \"HR\", \"BB\"]\n",
    "}\n",
    "\n",
    "statistics = []  # batting_2016.csv file extracted as list_of_dictionaries\n",
    "with open(baseballdatainfo['battingfile'], newline='') as csvfile:\n",
    "    csvreader = csv.DictReader(csvfile, delimiter=',', quotechar=\"'\")\n",
    "    for row in csvreader:\n",
    "        statistics.append(row)\n",
    "\n",
    "print(list(statistics[0].keys()))\n",
    "        \n",
    "\n",
    "filter_by_year(statistics, 1935, \"yearID\") # filters list of dictionaries are 513 for year 1935\n",
    "\n"
   ]
  },
  {
   "cell_type": "markdown",
   "id": "903fd9ce",
   "metadata": {},
   "source": [
    "## 2nd function"
   ]
  },
  {
   "cell_type": "code",
   "execution_count": 52,
   "id": "a41d761f",
   "metadata": {},
   "outputs": [],
   "source": [
    "MINIMUM_AB = 500\n",
    "\n",
    "def slugging_percentage(info, batting_stats):\n",
    "    \"\"\"\n",
    "    Inputs:\n",
    "      batting_stats - dictionary of batting statistics (values are strings)\n",
    "    Output:\n",
    "      Returns the slugging percentage as a float\n",
    "    \"\"\"\n",
    "    #     hits = float(batting_stats[info[\"hits\"]])\n",
    "    #     doubles = float(batting_stats[info[\"doubles\"]])\n",
    "    #     triples = float(batting_stats[info[\"triples\"]])\n",
    "    #     home_runs = float(batting_stats[info[\"homeruns\"]])\n",
    "    #     singles = hits - doubles - triples - home_runs\n",
    "    #     at_bats = float(batting_stats[info[\"atbats\"]])\n",
    "    \n",
    "    stats_list = []\n",
    "    \n",
    "    for row in batting_stats:\n",
    "        hits = float(row[info[\"hits\"]])\n",
    "        doubles = float(row[info[\"doubles\"]])\n",
    "        triples = float(row[info[\"triples\"]])\n",
    "        home_runs = float(row[info[\"homeruns\"]])\n",
    "        singles = hits - doubles - triples - home_runs\n",
    "        at_bats = float(row[info[\"atbats\"]])\n",
    "        \n",
    "        if (at_bats >= MINIMUM_AB):\n",
    "            stats_list.append(float((singles + 2 * doubles + 3 * triples + 4 * home_runs) / (at_bats)))\n",
    "    \n",
    "    return stats_list   \n",
    "    #     if at_bats >= MINIMUM_AB:\n",
    "    #         return float((singles + 2 * doubles + 3 * triples + 4 * home_runs) / at_bats)\n",
    "    #     else:\n",
    "    #         return 0\n",
    "\n",
    "def onbase_percentage(info, batting_stats):\n",
    "    \"\"\"\n",
    "    Inputs:\n",
    "      batting_stats - dictionary of batting statistics (values are strings)\n",
    "    Output:\n",
    "      Returns the on-base percentage as a float\n",
    "    \"\"\"\n",
    "    stats_list = []  # list to store stats of player\n",
    "    playerid_list = []  # list to store the playerID\n",
    "    \n",
    "    for row in batting_stats:\n",
    "        hits = float(row[info[\"hits\"]])\n",
    "        at_bats = float(row[info[\"atbats\"]])\n",
    "        walks = float(row[info[\"walks\"]])\n",
    "       \n",
    "        if (at_bats >= MINIMUM_AB):\n",
    "            stats_list.append((hits + walks) / (at_bats + walks))\n",
    "            playerid_list.append(row['playerID'])\n",
    "    \n",
    "    return playerid_list, stats_list\n",
    "       \n",
    "def top_player_ids(info, statistics, onbase_percentage, numplayers):\n",
    "    \"\"\"\n",
    "    Inputs:\n",
    "      info       - Baseball data information dictionary\n",
    "      statistics - List of batting statistics dictionaries\n",
    "      formula    - function that takes an info dictionary and a\n",
    "                   batting statistics dictionary as input and\n",
    "                   computes a compound statistic\n",
    "      numplayers - Number of top players to return\n",
    "    Outputs:\n",
    "      Returns a list of tuples, player ID and compound statistic\n",
    "      computed by formula, of the top numplayers players sorted in\n",
    "      decreasing order of the computed statistic.\n",
    "    \"\"\"\n",
    "    # preparing list of playerid and list of stats\n",
    "    playerid_list, stats_list = onbase_percentage(info, statistics)  \n",
    "    \n",
    "    # building the list of tuples\n",
    "    player_list_of_tuple = list(map(lambda player, stats : (player, stats), playerid_list, stats_list)) \n",
    "\n",
    "    # reversing the obtained list of tuples based on the stats value\n",
    "    player_list_of_tuple.sort(key = lambda x:x[1], reverse=True)   \n",
    "    \n",
    "    # extracting the top 10 players from the obtained list of tuples\n",
    "    top_ids_and_stats = []\n",
    "    for x in range(numplayers):\n",
    "        top_ids_and_stats.append(player_list_of_tuple[x])\n",
    "        \n",
    "    return (top_ids_and_stats)\n",
    "\n",
    "top_ids_and_stats = top_player_ids(baseballdatainfo, statistics, onbase_percentage,  10)\n",
    "\n",
    "# writing ids and stats to a file\n",
    "# with open('ok1.csv', 'w', newline='') as csvfile:\n",
    "#     csvwriter = csv.writer(csvfile, delimiter=',', quotechar=\"'\")\n",
    "#     for row in top_ids_and_stats:\n",
    "#         csvwriter.writerow(row)\n",
    "        \n"
   ]
  },
  {
   "cell_type": "markdown",
   "id": "c5d57bd3",
   "metadata": {},
   "source": [
    "# 3rd function"
   ]
  },
  {
   "cell_type": "code",
   "execution_count": 121,
   "id": "0fbf468f",
   "metadata": {},
   "outputs": [
    {
     "data": {
      "text/plain": [
       "['0.501 --- Hugh Duffy',\n",
       " '0.516 --- Billy Hamilton',\n",
       " '0.506 --- Rogers Hornsby',\n",
       " '0.498 --- Joe Kelley',\n",
       " '0.542 --- Babe Ruth',\n",
       " '0.510 --- Babe Ruth',\n",
       " '0.509 --- Babe Ruth',\n",
       " '0.497 --- Ted Williams',\n",
       " '0.496 --- Ted Williams',\n",
       " '0.496 --- Ted Williams']"
      ]
     },
     "execution_count": 121,
     "metadata": {},
     "output_type": "execute_result"
    }
   ],
   "source": [
    "\n",
    "def lookup_player_names(info, top_ids_and_stats):\n",
    "    \"\"\"\n",
    "    Inputs:\n",
    "      info              - Baseball data information dictionary\n",
    "      top_ids_and_stats - list of tuples containing player IDs and\n",
    "                          computed statistics\n",
    "    Outputs:\n",
    "      List of strings of the form \"x.xxx --- FirstName LastName\",\n",
    "      where \"x.xxx\" is a string conversion of the float stat in\n",
    "      the input and \"FirstName LastName\" is the name of the player\n",
    "      corresponding to the player ID in the input.\n",
    "    \"\"\"\n",
    "    player_names = []\n",
    "    with open(\"Master_2016.csv\", newline = '') as master_file:\n",
    "        master_reader = csv.DictReader(master_file, delimiter=',', quotechar = \"'\")\n",
    "        for row in master_reader:\n",
    "            for id in top_ids_and_stats:\n",
    "                if id[0] == row[info['playerid']]:\n",
    "                    player_names.append(str(f'{id[1]:.3f}')+\" --- \" + row[info['firstname']]+ \" \" + row[info['lastname']])  \n",
    "    \n",
    "    return player_names\n",
    "\n",
    "\n",
    "lookup_player_names(baseballdatainfo, top_ids_and_stats)"
   ]
  },
  {
   "cell_type": "markdown",
   "id": "8df28ac4",
   "metadata": {},
   "source": [
    "# 4th function"
   ]
  },
  {
   "cell_type": "code",
   "execution_count": 140,
   "id": "39fe1a63",
   "metadata": {},
   "outputs": [],
   "source": [
    "def slugging_percentage(info, batting_stats):\n",
    "    \"\"\"\n",
    "    Inputs:\n",
    "      batting_stats - dictionary of batting statistics (values are strings)\n",
    "    Output:\n",
    "      Returns the slugging percentage as a float\n",
    "    \"\"\"\n",
    "\n",
    "    hits = float(batting_stats[info[\"hits\"]])\n",
    "    doubles = float(batting_stats[info[\"doubles\"]])\n",
    "    triples = float(batting_stats[info[\"triples\"]])\n",
    "    home_runs = float(batting_stats[info[\"homeruns\"]])\n",
    "    singles = hits - doubles - triples - home_runs\n",
    "    at_bats = float(batting_stats[info[\"atbats\"]])\n",
    "\n",
    "    if at_bats >= MINIMUM_AB:\n",
    "        return (singles + 2 * doubles + 3 * triples + 4 * home_runs) / at_bats\n",
    "    else:\n",
    "        return 0\n",
    "\n",
    "\n",
    "def compute_top_stats_year(info, formula, numplayers, year):\n",
    "    \"\"\"\n",
    "    Inputs:\n",
    "      info        - Baseball data information dictionary\n",
    "      formula     - function that takes an info dictionary and a\n",
    "                    batting statistics dictionary as input and\n",
    "                    computes a compound statistic\n",
    "      numplayers  - Number of top players to return\n",
    "      year        - Year to filter by\n",
    "    Outputs:\n",
    "      Returns a list of strings for the top numplayers in the given year\n",
    "      according to the given formula.\n",
    "    \"\"\"\n",
    "    yearbased_list_of_dictionary = []\n",
    "    for row in statistics:\n",
    "        if int(row['yearID']) == year:\n",
    "            yearbased_list_of_dictionary.append(row)\n",
    "    \n",
    "    list_of_top_players_by_year = []\n",
    "    \n",
    "#         for row in master_reader:\n",
    "#             for id in top_ids_and_stats:\n",
    "#                 if id[0] == row[info['playerid']]:\n",
    "#                     player_names.append(str(f'{id[1]:.3f}')+\" --- \" + row[info['firstname']]+ \" \" + row[info['lastname']])\n",
    "    for row in yearbased_list_of_dictionary:\n",
    "#             list_of_top_players_by_year.append(slugging_percentage(baseballdatainfo, yearbased_list_of_dictionary))\n",
    "        stat = f'{slugging_percentage(baseballdatainfo, row):.5f}'\n",
    "        with open(\"Master_2016.csv\", newline = '') as master_file:\n",
    "            master_reader = csv.DictReader(master_file, delimiter=',', quotechar = \"'\")\n",
    "            for row2 in master_reader:\n",
    "                if row2[info['playerid']] == row[info['playerid']]:\n",
    "                    list_of_top_players_by_year.append(str(stat)+\" --- \" + row2[info['firstname']]+ \" \" + row2[info['lastname']])  \n",
    "\n",
    "    \n",
    "    return list_of_top_players_by_year\n",
    "\n",
    "xyz = compute_top_stats_year(baseballdatainfo, slugging_percentage, 20, 1936)"
   ]
  },
  {
   "cell_type": "markdown",
   "id": "8862b0a7",
   "metadata": {},
   "source": [
    "# 5th function"
   ]
  },
  {
   "cell_type": "code",
   "execution_count": 118,
   "id": "27aa5275",
   "metadata": {
    "scrolled": true
   },
   "outputs": [
    {
     "name": "stdout",
     "output_type": "stream",
     "text": [
      "Enter playerID: allisar01\n",
      "Enter the fields out of the given fields to be summed up separated by space:atbats, hits, doubles, triples, homeruns, walkshits atbats doubles\n",
      "{'allisar01': {'AB': 740.0, 'H': 188.0, '2B': 19.0, '3B': 0, 'HR': 0, 'BB': 0}}\n"
     ]
    }
   ],
   "source": [
    "def aggregate_by_player_id(statistics, playerid, fields):\n",
    "    \"\"\"\n",
    "    Inputs:\n",
    "      statistics - List of batting statistics dictionaries\n",
    "      playerid   - Player ID field name\n",
    "      fields     - List of fields to aggregate\n",
    "    Output:\n",
    "      Returns a nested dictionary whose keys are player IDs and whose values\n",
    "      are dictionaries of aggregated stats.  Only the fields from the fields\n",
    "      input will be aggregated in the aggregated stats dictionaries.\n",
    "    \"\"\"\n",
    "\n",
    "    aggregate_fields = {playerid:{'AB':0, 'H':0, '2B':0, '3B':0, 'HR':0, 'BB':0}}\n",
    "\n",
    "    for row in statistics:\n",
    "        if row['playerID'] == playerid:            \n",
    "            for field in fields:\n",
    "                   aggregate_fields[playerid][baseballdatainfo[field]] = float(aggregate_fields[playerid][baseballdatainfo[field]]) + float(row[baseballdatainfo[field]])\n",
    "                       \n",
    "    \n",
    "    return aggregate_fields\n",
    "\n",
    "playerid = input(\"Enter playerID: \")\n",
    "fields = (input(\"Enter the fields out of the given fields to be summed up separated by space:atbats, hits, doubles, triples, homeruns, walks\"))\n",
    "fields = fields.split()\n",
    "print(aggregate_by_player_id(statistics, playerid, fields))\n",
    "\n",
    "\n"
   ]
  },
  {
   "cell_type": "markdown",
   "id": "6b73bcd4",
   "metadata": {},
   "source": [
    "# 6th function"
   ]
  },
  {
   "cell_type": "code",
   "execution_count": null,
   "id": "40b10a52",
   "metadata": {},
   "outputs": [],
   "source": [
    "def compute_top_stats_career(info, formula, numplayers):\n",
    "    \"\"\"\n",
    "    Inputs:\n",
    "      info        - Baseball data information dictionary\n",
    "      formula     - function that takes an info dictionary and a\n",
    "                    batting statistics dictionary as input and\n",
    "                    computes a compound statistic\n",
    "      numplayers  - Number of top players to return\n",
    "    \"\"\"\n",
    "    return []"
   ]
  },
  {
   "cell_type": "markdown",
   "id": "409ac80b",
   "metadata": {},
   "source": [
    "# Testing"
   ]
  },
  {
   "cell_type": "code",
   "execution_count": 103,
   "id": "971aa155",
   "metadata": {},
   "outputs": [
    {
     "name": "stdout",
     "output_type": "stream",
     "text": [
      "(102816, 2)\n",
      "[['allisar01' 1871]]\n",
      "[['allisar01' 1872]]\n",
      "[['allisar01' 1873]]\n",
      "[['allisar01' 1875]]\n",
      "[['allisar01' 1875]]\n",
      "[['allisar01' 1876]]\n",
      "6\n"
     ]
    }
   ],
   "source": [
    "import pandas as pd \n",
    "import numpy as np\n",
    "df = pd.read_csv(\"Batting_2016.csv\")\n",
    "# cols = [6,15]\n",
    "# df = df[df.columns[cols]]\n",
    "# print(df)\n",
    "ID = np.matrix(df.iloc[:,0:2])\n",
    "print(ID.shape)\n",
    "c=0\n",
    "for col in range(len(ID)):\n",
    "    if ID[2,0]==ID[col,0]: # \n",
    "        c+=1\n",
    "        print(ID[col])\n",
    "    if(col>100000):\n",
    "        break\n",
    "\n",
    "print(c)\n",
    "\n",
    "\n"
   ]
  },
  {
   "cell_type": "code",
   "execution_count": null,
   "id": "2d7c42e0",
   "metadata": {},
   "outputs": [],
   "source": []
  }
 ],
 "metadata": {
  "kernelspec": {
   "display_name": "Python 3 (ipykernel)",
   "language": "python",
   "name": "python3"
  },
  "language_info": {
   "codemirror_mode": {
    "name": "ipython",
    "version": 3
   },
   "file_extension": ".py",
   "mimetype": "text/x-python",
   "name": "python",
   "nbconvert_exporter": "python",
   "pygments_lexer": "ipython3",
   "version": "3.9.7"
  }
 },
 "nbformat": 4,
 "nbformat_minor": 5
}
