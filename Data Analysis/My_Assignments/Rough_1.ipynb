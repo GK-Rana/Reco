{
 "cells": [
  {
   "cell_type": "code",
   "execution_count": 116,
   "id": "67cf02c4-6eed-476e-a393-a3bbedc3e5cc",
   "metadata": {},
   "outputs": [],
   "source": [
    "baseballdatainfo = {\n",
    "    \"masterfile\": \"Master_2016.csv\",   # Name of Master CSV file\n",
    "    \"battingfile\": \"Batting_2016.csv\", # Name of Batting CSV file\n",
    "    \"separator\": \",\",                  # Separator character in CSV files\n",
    "    \"quote\": '\"',                      # Quote character in CSV files\n",
    "    \"playerid\": \"playerID\",            # Player ID field name\n",
    "    \"firstname\": \"nameFirst\",          # First name field name\n",
    "    \"lastname\": \"nameLast\",            # Last name field name\n",
    "    \"yearid\": \"yearID\",                # Year field name\n",
    "    \"atbats\": \"AB\",                    # At bats field name\n",
    "    \"hits\": \"H\",                       # Hits field name\n",
    "    \"doubles\": \"2B\",                   # Doubles field name\n",
    "    \"triples\": \"3B\",                   # Triples field name\n",
    "    \"homeruns\": \"HR\",                  # Home runs field name\n",
    "    \"walks\": \"BB\",                     # Walks field name\n",
    "    \"battingfields\": [\"AB\", \"H\", \"2B\", \"3B\", \"HR\", \"BB\"]\n",
    "}\n",
    "\n",
    "statistics = []  # batting_2016.csv file extracted as list_of_dictionaries\n",
    "with open(baseballdatainfo['battingfile'], newline='') as csvfile:\n",
    "    csvreader = csv.DictReader(csvfile, delimiter=',', quotechar=\"'\")\n",
    "    for row in csvreader:\n",
    "        statistics.append(row)\n",
    "        \n",
    "        \n",
    "player_names = []\n",
    "with open(baseballdatainfo['masterfile'], newline = '') as master_file:\n",
    "    master_reader = csv.DictReader(master_file, delimiter=',', quotechar = \"'\")\n",
    "    for row in master_reader:\n",
    "        player_names.append(row) "
   ]
  },
  {
   "cell_type": "code",
   "execution_count": 117,
   "id": "1e06a060-f22d-4227-a185-bbb989060e25",
   "metadata": {},
   "outputs": [],
   "source": [
    "\n",
    "# Typical cutoff used for official statistics\n",
    "MINIMUM_AB = 500\n",
    "\n",
    "def batting_average(info, batting_stats):\n",
    "    \"\"\"\n",
    "    Inputs:\n",
    "      batting_stats - dictionary of batting statistics (values are strings)\n",
    "    Output:\n",
    "      Returns the batting average as a float\n",
    "    \"\"\"\n",
    "    hits = float(batting_stats[info[\"hits\"]])\n",
    "    at_bats = float(batting_stats[info[\"atbats\"]])\n",
    "    if at_bats >= MINIMUM_AB:\n",
    "        return hits / at_bats\n",
    "    else:\n",
    "        return 0\n",
    "\n",
    "def onbase_percentage(info, batting_stats):\n",
    "    \"\"\"\n",
    "    Inputs:\n",
    "      batting_stats - dictionary of batting statistics (values are strings)\n",
    "    Output:\n",
    "      Returns the on-base percentage as a float\n",
    "    \"\"\"\n",
    "    hits = float(batting_stats[info[\"hits\"]])\n",
    "    at_bats = float(batting_stats[info[\"atbats\"]])\n",
    "    walks = float(batting_stats[info[\"walks\"]])\n",
    "    if at_bats >= MINIMUM_AB:\n",
    "        return (hits + walks) / (at_bats + walks)\n",
    "    else:\n",
    "        return 0\n",
    "\n",
    "def slugging_percentage(info, batting_stats):\n",
    "    \"\"\"\n",
    "    Inputs:\n",
    "      batting_stats - dictionary of batting statistics (values are strings)\n",
    "    Output:\n",
    "      Returns the slugging percentage as a float\n",
    "    \"\"\"\n",
    "    hits = float(batting_stats[info[\"hits\"]])\n",
    "    doubles = float(batting_stats[info[\"doubles\"]])\n",
    "    triples = float(batting_stats[info[\"triples\"]])\n",
    "    home_runs = float(batting_stats[info[\"homeruns\"]])\n",
    "    singles = hits - doubles - triples - home_runs\n",
    "    at_bats = float(batting_stats[info[\"atbats\"]])\n",
    "    if at_bats >= MINIMUM_AB:\n",
    "        return (singles + 2 * doubles + 3 * triples + 4 * home_runs) / at_bats\n",
    "    else:\n",
    "        return 0"
   ]
  },
  {
   "cell_type": "markdown",
   "id": "9a23ab89-358d-4095-8b4b-defbc2995e22",
   "metadata": {},
   "source": [
    "# 1st function"
   ]
  },
  {
   "cell_type": "code",
   "execution_count": 118,
   "id": "367b3587",
   "metadata": {},
   "outputs": [],
   "source": [
    "\n",
    "import csv\n",
    "\n",
    "def filter_by_year(statistics, year, yearid):\n",
    "    filtered_stats = []\n",
    "    for row in statistics:\n",
    "        if year == int(row[yearid]): # Comparing every row's year to the input year value\n",
    "            filtered_stats.append(row) # Appending row, belonging to the input year\n",
    "    return filtered_stats       # list of dictionaries\n",
    "\n",
    "# filter_by_year(statistics, 1935, \"yearID\") # filters list of dictionaries are 513 for year 1935\n",
    "\n"
   ]
  },
  {
   "cell_type": "markdown",
   "id": "903fd9ce",
   "metadata": {},
   "source": [
    "## 2nd function"
   ]
  },
  {
   "cell_type": "code",
   "execution_count": 119,
   "id": "a41d761f",
   "metadata": {},
   "outputs": [],
   "source": [
    "def top_player_ids(info, statistics, formula, numplayers):\n",
    "    # preparing list of playerid and list of stats\n",
    "    playerid_list = []\n",
    "    stats_list = []\n",
    "    for row in statistics:\n",
    "        playerid_list.append(row[info['playerid']])\n",
    "        if formula == slugging_percentage:\n",
    "            stats_list.append(slugging_percentage(info, row))\n",
    "        elif formula == onbase_percentage:\n",
    "            stats_list.append(onbase_percentage(info, row))\n",
    "        else:\n",
    "            stats_list.append(batting_average(info, row))\n",
    "\n",
    "    # building the list of tuples\n",
    "    player_list_of_tuple = list(map(lambda player, stats : (player, stats), playerid_list, stats_list)) \n",
    "\n",
    "    # reversing the obtained list of tuples based on the stats value\n",
    "    player_list_of_tuple.sort(key = lambda x:x[1], reverse=True)   \n",
    "    \n",
    "    # extracting the top 10 players from the obtained list of tuples\n",
    "    top_ids_and_stats = []\n",
    "    for x in range(numplayers):\n",
    "        top_ids_and_stats.append(player_list_of_tuple[x])\n",
    "        \n",
    "    return top_ids_and_stats # list of tuples\n",
    "\n",
    "# top_ids_and_stats = top_player_ids(baseballdatainfo, statistics, onbase_percentage,  10)  \n",
    "# print(top_ids_and_stats)\n"
   ]
  },
  {
   "cell_type": "markdown",
   "id": "c5d57bd3",
   "metadata": {},
   "source": [
    "# 3rd function"
   ]
  },
  {
   "cell_type": "code",
   "execution_count": 120,
   "id": "0fbf468f",
   "metadata": {},
   "outputs": [],
   "source": [
    "\n",
    "def lookup_player_names(info, top_ids_and_stats):\n",
    "    player_names = []\n",
    "    with open(\"Master_2016.csv\", newline = '') as master_file:\n",
    "        master_reader = csv.DictReader(master_file, delimiter=',', quotechar = \"'\")\n",
    "        \n",
    "        \"\"\"Reading the row of master file, then comparing the playerID from row to the playerID from tuple.\"\"\"\n",
    "        for row in master_reader:\n",
    "            for id in top_ids_and_stats:\n",
    "                'if both the ids match up, then we add the required values from specific to the new list'\n",
    "                if id[0] == row[info['playerid']]:\n",
    "                    player_names.append(str(f'{id[1]:.3f}')+\" --- \" + row[info['firstname']]+ \" \" + row[info['lastname']])  \n",
    "    \n",
    "    return player_names # list of strings\n",
    "# print(lookup_player_names(baseballdatainfo, top_ids_and_stats))"
   ]
  },
  {
   "cell_type": "markdown",
   "id": "8df28ac4",
   "metadata": {},
   "source": [
    "# 4th function"
   ]
  },
  {
   "cell_type": "code",
   "execution_count": 121,
   "id": "39fe1a63",
   "metadata": {},
   "outputs": [],
   "source": [
    "def compute_top_stats_year(info, formula, numplayers, year):\n",
    "    \n",
    "    yearbased_list_of_dictionary = filter_by_year(statistics, year, 'yearID')\n",
    "    \n",
    "    top_ids_and_stats = top_player_ids(info, statistics, formula, numplayers)\n",
    "    \n",
    "    player_names =  lookup_player_names(info, top_ids_and_stats)\n",
    "    \n",
    "    return player_names  \n",
    "\n",
    "# xyz = compute_top_stats_year(baseballdatainfo, slugging_percentage, 20, 1936)"
   ]
  },
  {
   "cell_type": "code",
   "execution_count": 122,
   "id": "f0dbd3f5-0643-4251-bb60-d0051f7e12ce",
   "metadata": {},
   "outputs": [
    {
     "name": "stdout",
     "output_type": "stream",
     "text": [
      "['0.749 --- Jimmie Foxx', '0.704 --- Jimmie Foxx', '0.703 --- Jimmie Foxx', '0.765 --- Lou Gehrig', '0.721 --- Lou Gehrig', '0.706 --- Lou Gehrig', '0.756 --- Rogers Hornsby', '0.722 --- Rogers Hornsby', '0.705 --- Mickey Mantle', '0.752 --- Mark McGwire', '0.846 --- Babe Ruth', '0.772 --- Babe Ruth', '0.764 --- Babe Ruth', '0.739 --- Babe Ruth', '0.732 --- Babe Ruth', '0.709 --- Babe Ruth', '0.708 --- Al Simmons', '0.737 --- Sammy Sosa', '0.720 --- Larry Walker', '0.723 --- Hack Wilson']\n"
     ]
    }
   ],
   "source": [
    "print (xyz)"
   ]
  },
  {
   "cell_type": "markdown",
   "id": "8862b0a7",
   "metadata": {
    "tags": []
   },
   "source": [
    "# 5th function"
   ]
  },
  {
   "cell_type": "code",
   "execution_count": 123,
   "id": "27aa5275",
   "metadata": {
    "scrolled": true
   },
   "outputs": [],
   "source": [
    "def aggregate_by_player_id(statistics, playerid, fields):\n",
    "    \n",
    "    aggregate_fields = {playerid:{'AB':0, 'H':0, '2B':0, '3B':0, 'HR':0, 'BB':0}}\n",
    "\n",
    "    for row in statistics:\n",
    "        if row['playerID'] == playerid:            \n",
    "            for field in fields:\n",
    "                   aggregate_fields[playerid][field] = float(aggregate_fields[playerid][field]) + float(row[field])\n",
    "                       \n",
    "    return aggregate_fields\n",
    "\n",
    "# print(aggregate_by_player_id(statistics, playerid, fields))"
   ]
  },
  {
   "cell_type": "code",
   "execution_count": 135,
   "id": "525d612c-a25d-4e6e-8af6-032e4a43bc54",
   "metadata": {},
   "outputs": [],
   "source": [
    "def unique_work(info, statistics):\n",
    "    unique_ids = []\n",
    "    for row in statistics:\n",
    "        unique_ids.append(row['playerID'])\n",
    "    unique_ids = list(set(unique_ids))  # 18915 unique ids\n",
    "   \n",
    "    aggregate_fields = {} # {playerid:{'AB':0, 'H':0, '2B':0, '3B':0, 'HR':0, 'BB':0}}\n",
    "    unique_agg_stat = []\n",
    "    for playerid in unique_ids:\n",
    "        for row in statistics:\n",
    "            if row['playerID'] == playerid:\n",
    "                aggregate_fields[playerid] = {'AB':0, 'H':0, '2B':0, '3B':0, 'HR':0, 'BB':0}  # creating new dict inside a dict\n",
    "                for field in info['battingfields']:\n",
    "                       aggregate_fields[playerid][field] = float(aggregate_fields[playerid][field]) + float(row[field])\n",
    "                aggregate_fields[playerid]['playerID'] = playerid\n",
    "                unique_agg_stat.append(aggregate_fields[playerid])\n",
    "                \n",
    "    return unique_agg_stat"
   ]
  },
  {
   "cell_type": "markdown",
   "id": "6b73bcd4",
   "metadata": {},
   "source": [
    "# 6th function"
   ]
  },
  {
   "cell_type": "code",
   "execution_count": 136,
   "id": "40b10a52",
   "metadata": {},
   "outputs": [
    {
     "name": "stdout",
     "output_type": "stream",
     "text": [
      "['0.749 --- Jimmie Foxx', '0.704 --- Jimmie Foxx', '0.703 --- Jimmie Foxx', '0.765 --- Lou Gehrig', '0.721 --- Lou Gehrig', '0.706 --- Lou Gehrig', '0.756 --- Rogers Hornsby', '0.722 --- Rogers Hornsby', '0.705 --- Mickey Mantle', '0.752 --- Mark McGwire', '0.846 --- Babe Ruth', '0.772 --- Babe Ruth', '0.764 --- Babe Ruth', '0.739 --- Babe Ruth', '0.732 --- Babe Ruth', '0.709 --- Babe Ruth', '0.708 --- Al Simmons', '0.737 --- Sammy Sosa', '0.720 --- Larry Walker', '0.723 --- Hack Wilson']\n"
     ]
    }
   ],
   "source": [
    "def compute_top_stats_career(info, formula, numplayers):\n",
    "    \n",
    "    # aggregating players statistics to decrase the workload\n",
    "    unique_stats = unique_work(baseballdatainfo, statistics)\n",
    "    \n",
    "    # calculating top players by their career score\n",
    "    top_ids_and_stats = top_player_ids(info, unique_stats, formula, numplayers) \n",
    "    \n",
    "    # extracting top player names\n",
    "    print(lookup_player_names(info, top_ids_and_stats))\n",
    "\n",
    "compute_top_stats_career(baseballdatainfo, slugging_percentage, 20)"
   ]
  },
  {
   "cell_type": "markdown",
   "id": "409ac80b",
   "metadata": {},
   "source": [
    "# Testing"
   ]
  },
  {
   "cell_type": "code",
   "execution_count": null,
   "id": "a0013b33-ee9a-4a31-8460-0adf84fcd28b",
   "metadata": {},
   "outputs": [],
   "source": [
    "def test_baseball_statistics():\n",
    "    \"\"\"\n",
    "    Simple testing code.\n",
    "    \"\"\"c\n",
    "    print(\"Top 5 batting averages in 1923\")\n",
    "    top_batting_average_1923 = compute_top_stats_year(baseballdatainfo, batting_average, 5, 1923)\n",
    "    for player in top_batting_average_1923:\n",
    "        print(player)\n",
    "    print(\"\")\n",
    "\n",
    "    print(\"Top 10 batting averages in 2010\")\n",
    "    top_batting_average_2010 = compute_top_stats_year(baseballdatainfo, batting_average, 10, 2010)\n",
    "    for player in top_batting_average_2010:\n",
    "        print(player)\n",
    "    print(\"\")\n",
    "\n",
    "    print(\"Top 10 on-base percentage in 2010\")\n",
    "    top_onbase_2010 = compute_top_stats_year(baseballdatainfo, onbase_percentage, 10, 2010)\n",
    "    for player in top_onbase_2010:\n",
    "        print(player)\n",
    "    print(\"\")\n",
    "\n",
    "    print(\"Top 10 slugging percentage in 2010\")\n",
    "    top_slugging_2010 = compute_top_stats_year(baseballdatainfo, slugging_percentage, 10, 2010)\n",
    "    for player in top_slugging_2010:\n",
    "        print(player)\n",
    "    print(\"\")\n",
    "\n",
    "    # You can also use lambdas for the formula\n",
    "    #  This one computes onbase plus slugging percentage\n",
    "    print(\"Top 10 OPS in 2010\")\n",
    "    top_ops_2010 = compute_top_stats_year(baseballdatainfo,\n",
    "                                          lambda info, stats: (onbase_percentage(info, stats) +\n",
    "                                                               slugging_percentage(info, stats)),\n",
    "                                          10, 2010)\n",
    "    for player in top_ops_2010:\n",
    "        print(player)\n",
    "    print(\"\")\n",
    "\n",
    "    print(\"Top 20 career batting averages\")\n",
    "    top_batting_average_career = compute_top_stats_career(baseballdatainfo, batting_average, 20)\n",
    "    for player in top_batting_average_career:\n",
    "        print(player)\n",
    "    print(\"\")\n",
    "\n",
    "\n",
    "# Make sure the following call to test_baseball_statistics is\n",
    "# commented out when submitting to OwlTest/CourseraTest.\n",
    "\n",
    "test_baseball_statistics()"
   ]
  }
 ],
 "metadata": {
  "kernelspec": {
   "display_name": "Python 3 (ipykernel)",
   "language": "python",
   "name": "python3"
  },
  "language_info": {
   "codemirror_mode": {
    "name": "ipython",
    "version": 3
   },
   "file_extension": ".py",
   "mimetype": "text/x-python",
   "name": "python",
   "nbconvert_exporter": "python",
   "pygments_lexer": "ipython3",
   "version": "3.9.7"
  }
 },
 "nbformat": 4,
 "nbformat_minor": 5
}
