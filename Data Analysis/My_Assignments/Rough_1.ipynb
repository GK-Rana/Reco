{
 "cells": [
  {
   "cell_type": "markdown",
   "id": "2cce22c1",
   "metadata": {},
   "source": [
    "# 1st function"
   ]
  },
  {
   "cell_type": "code",
   "execution_count": 1,
   "id": "367b3587",
   "metadata": {},
   "outputs": [
    {
     "name": "stdout",
     "output_type": "stream",
     "text": [
      "['playerID', 'yearID', 'stint', 'teamID', 'lgID', 'G', 'AB', 'R', 'H', '2B', '3B', 'HR', 'RBI', 'SB', 'CS', 'BB', 'SO', 'IBB', 'HBP', 'SH', 'SF', 'GIDP']\n"
     ]
    },
    {
     "data": {
      "text/plain": [
       "513"
      ]
     },
     "execution_count": 1,
     "metadata": {},
     "output_type": "execute_result"
    }
   ],
   "source": [
    "\n",
    "import csv\n",
    "\n",
    "def filter_by_year(statistics, year, yearid):\n",
    "    filtered_stats = []\n",
    "    for row in statistics:\n",
    "        if year == int(row[yearid]): # Comparing every row's year to the input year value\n",
    "            filtered_stats.append(row) # Appending row, belonging to the input year\n",
    "    return filtered_stats\n",
    "          \n",
    "    \n",
    "baseballdatainfo = {\n",
    "    \"masterfile\": \"Master_2016.csv\",   # Name of Master CSV file\n",
    "    \"battingfile\": \"Batting_2016.csv\", # Name of Batting CSV file\n",
    "    \"separator\": \",\",                  # Separator character in CSV files\n",
    "    \"quote\": '\"',                      # Quote character in CSV files\n",
    "    \"playerid\": \"playerID\",            # Player ID field name\n",
    "    \"firstname\": \"nameFirst\",          # First name field name\n",
    "    \"lastname\": \"nameLast\",            # Last name field name\n",
    "    \"yearid\": \"yearID\",                # Year field name\n",
    "    \"atbats\": \"AB\",                    # At bats field name\n",
    "    \"hits\": \"H\",                       # Hits field name\n",
    "    \"doubles\": \"2B\",                   # Doubles field name\n",
    "    \"triples\": \"3B\",                   # Triples field name\n",
    "    \"homeruns\": \"HR\",                  # Home runs field name\n",
    "    \"walks\": \"BB\",                     # Walks field name\n",
    "    \"battingfields\": [\"AB\", \"H\", \"2B\", \"3B\", \"HR\", \"BB\"]\n",
    "}\n",
    "\n",
    "statistics = []  # batting_2016.csv file extracted as list_of_dictionaries\n",
    "with open(baseballdatainfo['battingfile'], newline='') as csvfile:\n",
    "    csvreader = csv.DictReader(csvfile, delimiter=',', quotechar=\"'\")\n",
    "    for row in csvreader:\n",
    "        statistics.append(row)\n",
    "        \n",
    "        \n",
    "player_names = []\n",
    "with open(baseballdatainfo['masterfile'], newline = '') as master_file:\n",
    "    master_reader = csv.DictReader(master_file, delimiter=',', quotechar = \"'\")\n",
    "    for row in master_reader:\n",
    "        player_names.append(row)\n",
    "        \n",
    "# print(list(statistics[0].keys()))\n",
    "        \n",
    "\n",
    "filter_by_year(statistics, 1935, \"yearID\") # filters list of dictionaries are 513 for year 1935\n",
    "\n"
   ]
  },
  {
   "cell_type": "markdown",
   "id": "903fd9ce",
   "metadata": {},
   "source": [
    "## 2nd function"
   ]
  },
  {
   "cell_type": "code",
   "execution_count": 44,
   "id": "a41d761f",
   "metadata": {},
   "outputs": [],
   "source": [
    "MINIMUM_AB = 500\n",
    "\n",
    "def slugging_percentage(info, batting_stats):\n",
    "    \"\"\"\n",
    "    Inputs:\n",
    "      batting_stats - dictionary of batting statistics (values are strings)\n",
    "    Output:\n",
    "      Returns the slugging percentage as a float\n",
    "    \"\"\"\n",
    "    #     hits = float(batting_stats[info[\"hits\"]])\n",
    "    #     doubles = float(batting_stats[info[\"doubles\"]])\n",
    "    #     triples = float(batting_stats[info[\"triples\"]])\n",
    "    #     home_runs = float(batting_stats[info[\"homeruns\"]])\n",
    "    #     singles = hits - doubles - triples - home_runs\n",
    "    #     at_bats = float(batting_stats[info[\"atbats\"]])\n",
    "    \n",
    "    stats_list = []\n",
    "    \n",
    "    for row in batting_stats:\n",
    "        hits = float(row[info[\"hits\"]])\n",
    "        doubles = float(row[info[\"doubles\"]])\n",
    "        triples = float(row[info[\"triples\"]])\n",
    "        home_runs = float(row[info[\"homeruns\"]])\n",
    "        singles = hits - doubles - triples - home_runs\n",
    "        at_bats = float(row[info[\"atbats\"]])\n",
    "        \n",
    "        if (at_bats >= MINIMUM_AB):\n",
    "            stats_list.append(float((singles + 2 * doubles + 3 * triples + 4 * home_runs) / (at_bats)))\n",
    "    \n",
    "    return stats_list   \n",
    "    #     if at_bats >= MINIMUM_AB:\n",
    "    #         return float((singles + 2 * doubles + 3 * triples + 4 * home_runs) / at_bats)\n",
    "    #     else:\n",
    "    #         return 0\n",
    "\n",
    "def onbase_percentage(info, batting_stats):\n",
    "    \"\"\"\n",
    "    Inputs:\n",
    "      batting_stats - dictionary of batting statistics (values are strings)\n",
    "    Output:\n",
    "      Returns the on-base percentage as a float\n",
    "    \"\"\"\n",
    "    hits = float(row[info[\"hits\"]])\n",
    "    at_bats = float(row[info[\"atbats\"]])\n",
    "    walks = float(row[info[\"walks\"]])\n",
    "    if at_bats >= MINIMUM_AB:\n",
    "        return (hits + walks) / (at_bats + walks)\n",
    "    else:\n",
    "        return 0\n",
    "       \n",
    "def top_player_ids(info, statistics, onbase_percentage, numplayers):\n",
    "    \"\"\"\n",
    "    Inputs:\n",
    "      info       - Baseball data information dictionary\n",
    "      statistics - List of batting statistics dictionaries\n",
    "      formula    - function that takes an info dictionary and a\n",
    "                   batting statistics dictionary as input and\n",
    "                   computes a compound statistic\n",
    "      numplayers - Number of top players to return\n",
    "    Outputs:\n",
    "      Returns a list of tuples, player ID and compound statistic\n",
    "      computed by formula, of the top numplayers players sorted in\n",
    "      decreasing order of the computed statistic.\n",
    "    \"\"\"\n",
    "    # preparing list of playerid and list of stats\n",
    "    playerid_list = []\n",
    "    stats_list = []\n",
    "    for row in statistics:\n",
    "        playerid_list.append(row[info['playerid']])\n",
    "        stats_list.append(onbase_percentage(info, statistics))\n",
    "    \n",
    "    # building the list of tuples\n",
    "    player_list_of_tuple = list(map(lambda player, stats : (player, stats), playerid_list, stats_list)) \n",
    "\n",
    "    # reversing the obtained list of tuples based on the stats value\n",
    "    player_list_of_tuple.sort(key = lambda x:x[1], reverse=True)   \n",
    "    \n",
    "    # extracting the top 10 players from the obtained list of tuples\n",
    "    top_ids_and_stats = []\n",
    "    for x in range(numplayers):\n",
    "        top_ids_and_stats.append(player_list_of_tuple[x])\n",
    "        \n",
    "    return (top_ids_and_stats)\n",
    "\n",
    "top_ids_and_stats = top_player_ids(baseballdatainfo, statistics, onbase_percentage,  10)\n",
    "\n",
    "# writing ids and stats to a file\n",
    "# with open('ok1.csv', 'w', newline='') as csvfile:\n",
    "#     csvwriter = csv.writer(csvfile, delimiter=',', quotechar=\"'\")\n",
    "#     for row in top_ids_and_stats:\n",
    "#         csvwriter.writerow(row)\n",
    "        \n"
   ]
  },
  {
   "cell_type": "code",
   "execution_count": 39,
   "id": "60abbddb-ce3c-4022-b28e-43f2449146a3",
   "metadata": {},
   "outputs": [
    {
     "name": "stdout",
     "output_type": "stream",
     "text": [
      "[('abercda01', 0), ('addybo01', 0), ('allisar01', 0), ('allisdo01', 0), ('ansonca01', 0), ('armstbo01', 0), ('barkeal01', 0), ('barnero01', 0), ('barrebi01', 0), ('barrofr01', 0)]\n"
     ]
    }
   ],
   "source": [
    "print(top_ids_and_stats)"
   ]
  },
  {
   "cell_type": "markdown",
   "id": "c5d57bd3",
   "metadata": {},
   "source": [
    "# 3rd function"
   ]
  },
  {
   "cell_type": "code",
   "execution_count": 46,
   "id": "0fbf468f",
   "metadata": {},
   "outputs": [
    {
     "name": "stdout",
     "output_type": "stream",
     "text": [
      "['0.000 --- Frank Abercrombie', '0.000 --- Bob Addy', '0.000 --- Art Allison', '0.000 --- Doug Allison', '0.000 --- Cap Anson', '0.000 --- Robert Armstrong', '0.000 --- Al Barker', '0.000 --- Ross Barnes', '0.000 --- Bill Barrett', '0.000 --- Frank Barrows']\n"
     ]
    }
   ],
   "source": [
    "\n",
    "def lookup_player_names(info, top_ids_and_stats):\n",
    "    \"\"\"\n",
    "    Inputs:\n",
    "      info              - Baseball data information dictionary\n",
    "      top_ids_and_stats - list of tuples containing player IDs and\n",
    "                          computed statistics\n",
    "    Outputs:\n",
    "      List of strings of the form \"x.xxx --- FirstName LastName\",\n",
    "      where \"x.xxx\" is a string conversion of the float stat in\n",
    "      the input and \"FirstName LastName\" is the name of the player\n",
    "      corresponding to the player ID in the input.\n",
    "    \"\"\"\n",
    "    player_names = []\n",
    "    with open(\"Master_2016.csv\", newline = '') as master_file:\n",
    "        master_reader = csv.DictReader(master_file, delimiter=',', quotechar = \"'\")\n",
    "        for row in master_reader:\n",
    "            for id in top_ids_and_stats:\n",
    "                if id[0] == row[info['playerid']]:\n",
    "                    player_names.append(str(f'{id[1]:.3f}')+\" --- \" + row[info['firstname']]+ \" \" + row[info['lastname']])  \n",
    "    \n",
    "    return player_names\n",
    "#     player_score_name = []\n",
    "#     for row in player_names:\n",
    "#         for id in top_ids_and_stats:\n",
    "#             if id[0] == row[info['playerid']]:\n",
    "#                 player_score_name.append(str(f'{id[1]:.3f}')+\" --- \" + row[info['firstname']]+ \" \" + row[info['lastname']])  \n",
    "\n",
    "#     return player_score_name\n",
    "\n",
    "\n",
    "\n",
    "print(lookup_player_names(baseballdatainfo, top_ids_and_stats))"
   ]
  },
  {
   "cell_type": "code",
   "execution_count": null,
   "id": "0d330a4e-c5a8-4efb-bdfe-b27aad03ae1b",
   "metadata": {},
   "outputs": [],
   "source": [
    "# Typical cutoff used for official statistics\n",
    "MINIMUM_AB = 500\n",
    "\n",
    "def batting_average(info, batting_stats):\n",
    "    \"\"\"\n",
    "    Inputs:\n",
    "      batting_stats - dictionary of batting statistics (values are strings)\n",
    "    Output:\n",
    "      Returns the batting average as a float\n",
    "    \"\"\"\n",
    "    hits = float(batting_stats[info[\"hits\"]])\n",
    "    at_bats = float(batting_stats[info[\"atbats\"]])\n",
    "    if at_bats >= MINIMUM_AB:\n",
    "        return hits / at_bats\n",
    "    else:\n",
    "        return 0\n",
    "\n",
    "def onbase_percentage(info, batting_stats):\n",
    "    \"\"\"\n",
    "    Inputs:\n",
    "      batting_stats - dictionary of batting statistics (values are strings)\n",
    "    Output:\n",
    "      Returns the on-base percentage as a float\n",
    "    \"\"\"\n",
    "    hits = float(batting_stats[info[\"hits\"]])\n",
    "    at_bats = float(batting_stats[info[\"atbats\"]])\n",
    "    walks = float(batting_stats[info[\"walks\"]])\n",
    "    if at_bats >= MINIMUM_AB:\n",
    "        return (hits + walks) / (at_bats + walks)\n",
    "    else:\n",
    "        return 0\n",
    "\n",
    "def slugging_percentage(info, batting_stats):\n",
    "    \"\"\"\n",
    "    Inputs:\n",
    "      batting_stats - dictionary of batting statistics (values are strings)\n",
    "    Output:\n",
    "      Returns the slugging percentage as a float\n",
    "    \"\"\"\n",
    "    hits = float(batting_stats[info[\"hits\"]])\n",
    "    doubles = float(batting_stats[info[\"doubles\"]])\n",
    "    triples = float(batting_stats[info[\"triples\"]])\n",
    "    home_runs = float(batting_stats[info[\"homeruns\"]])\n",
    "    singles = hits - doubles - triples - home_runs\n",
    "    at_bats = float(batting_stats[info[\"atbats\"]])\n",
    "    if at_bats >= MINIMUM_AB:\n",
    "        return (singles + 2 * doubles + 3 * triples + 4 * home_runs) / at_bats\n",
    "    else:\n",
    "        return 0"
   ]
  },
  {
   "cell_type": "markdown",
   "id": "8df28ac4",
   "metadata": {},
   "source": [
    "# 4th function"
   ]
  },
  {
   "cell_type": "code",
   "execution_count": 5,
   "id": "39fe1a63",
   "metadata": {},
   "outputs": [],
   "source": [
    "def compute_top_stats_year(info, formula, numplayers, year):\n",
    "    \"\"\"\n",
    "    Inputs:\n",
    "      info        - Baseball data information dictionary\n",
    "      formula     - function that takes an info dictionary and a\n",
    "                    batting statistics dictionary as input and\n",
    "                    computes a compound statistic\n",
    "      numplayers  - Number of top players to return\n",
    "      year        - Year to filter by\n",
    "    Outputs:\n",
    "      Returns a list of strings for the top numplayers in the given year\n",
    "      according to the given formula.\n",
    "    \"\"\"\n",
    "    yearbased_list_of_dictionary = []\n",
    "    for row in statistics:\n",
    "        if int(row['yearID']) == year:\n",
    "            yearbased_list_of_dictionary.append(row)\n",
    "    \n",
    "    list_of_top_players_by_year = []\n",
    "    \n",
    "#         for row in master_reader:\n",
    "#             for id in top_ids_and_stats:\n",
    "#                 if id[0] == row[info['playerid']]:\n",
    "#                     player_names.append(str(f'{id[1]:.3f}')+\" --- \" + row[info['firstname']]+ \" \" + row[info['lastname']])\n",
    "    for row in yearbased_list_of_dictionary:\n",
    "#             list_of_top_players_by_year.append(slugging_percentage(baseballdatainfo, yearbased_list_of_dictionary))\n",
    "        stat = f'{slugging_percentage(baseballdatainfo, row):.5f}'\n",
    "        with open(\"Master_2016.csv\", newline = '') as master_file:\n",
    "            master_reader = csv.DictReader(master_file, delimiter=',', quotechar = \"'\")\n",
    "            for row2 in master_reader:\n",
    "                if row2[info['playerid']] == row[info['playerid']]:\n",
    "                    list_of_top_players_by_year.append(str(stat)+\" --- \" + row2[info['firstname']]+ \" \" + row2[info['lastname']])  \n",
    "\n",
    "    \n",
    "    return list_of_top_players_by_year\n",
    "\n",
    "xyz = compute_top_stats_year(baseballdatainfo, slugging_percentage, 20, 1936)"
   ]
  },
  {
   "cell_type": "markdown",
   "id": "8862b0a7",
   "metadata": {
    "tags": []
   },
   "source": [
    "# 5th function"
   ]
  },
  {
   "cell_type": "code",
   "execution_count": 35,
   "id": "27aa5275",
   "metadata": {
    "scrolled": true
   },
   "outputs": [
    {
     "name": "stdout",
     "output_type": "stream",
     "text": [
      "{'strawda01': {'AB': 5418.0, 'H': 1401.0, '2B': 256.0, '3B': 38.0, 'HR': 335.0, 'BB': 816.0}}\n"
     ]
    }
   ],
   "source": [
    "def aggregate_by_player_id(statistics, playerid, fields):\n",
    "    \"\"\"\n",
    "    Inputs:\n",
    "      statistics - List of batting statistics dictionaries\n",
    "      playerid   - Player ID field name\n",
    "      fields     - List of fields to aggregate\n",
    "    Output:\n",
    "      Returns a nested dictionary whose keys are player IDs and whose values\n",
    "      are dictionaries of aggregated stats.  Only the fields from the fields\n",
    "      input will be aggregated in the aggregated stats dictionaries.\n",
    "    \"\"\"\n",
    "\n",
    "    aggregate_fields = {playerid:{'AB':0, 'H':0, '2B':0, '3B':0, 'HR':0, 'BB':0}}\n",
    "\n",
    "    for row in statistics:\n",
    "        if row['playerID'] == playerid:            \n",
    "            for field in fields:\n",
    "                   aggregate_fields[playerid][baseballdatainfo[field]] = float(aggregate_fields[playerid][baseballdatainfo[field]]) + float(row[baseballdatainfo[field]])\n",
    "                       \n",
    "    \n",
    "    return aggregate_fields\n",
    "\n",
    "# playerid = input(\"Enter playerID: \")\n",
    "# fields = (input(\"Enter the fields out of the given fields to be summed up, separated by space:atbats, hits, doubles, triples, homeruns, walks\"))\n",
    "# fields = fields.split()\n",
    "print(aggregate_by_player_id(statistics, playerid, fields))\n",
    "\n",
    "\n"
   ]
  },
  {
   "cell_type": "markdown",
   "id": "6b73bcd4",
   "metadata": {},
   "source": [
    "# 6th function"
   ]
  },
  {
   "cell_type": "code",
   "execution_count": 34,
   "id": "40b10a52",
   "metadata": {},
   "outputs": [
    {
     "ename": "KeyboardInterrupt",
     "evalue": "",
     "output_type": "error",
     "traceback": [
      "\u001b[1;31m---------------------------------------------------------------------------\u001b[0m",
      "\u001b[1;31mKeyboardInterrupt\u001b[0m                         Traceback (most recent call last)",
      "Input \u001b[1;32mIn [34]\u001b[0m, in \u001b[0;36m<cell line: 52>\u001b[1;34m()\u001b[0m\n\u001b[0;32m     37\u001b[0m     \u001b[38;5;66;03m# aggregate_fields = {} # {playerid:{'AB':0, 'H':0, '2B':0, '3B':0, 'HR':0, 'BB':0}}\u001b[39;00m\n\u001b[0;32m     38\u001b[0m     \u001b[38;5;66;03m# for playerid in player_ids:\u001b[39;00m\n\u001b[0;32m     39\u001b[0m     \u001b[38;5;66;03m#     for row in statistics:\u001b[39;00m\n\u001b[1;32m   (...)\u001b[0m\n\u001b[0;32m     46\u001b[0m \u001b[38;5;66;03m#     for player in player_ids:\u001b[39;00m\n\u001b[0;32m     47\u001b[0m \u001b[38;5;66;03m#             agg_player_stat[player] = (aggregate_by_player_id(statistics, playerid, fields)).values()\u001b[39;00m\n\u001b[0;32m     50\u001b[0m     \u001b[38;5;28;01mreturn\u001b[39;00m agg_player_stat\n\u001b[1;32m---> 52\u001b[0m \u001b[38;5;28mprint\u001b[39m(\u001b[43mcompute_top_stats_career\u001b[49m\u001b[43m(\u001b[49m\u001b[43mbaseballdatainfo\u001b[49m\u001b[43m,\u001b[49m\u001b[43m \u001b[49m\u001b[43mslugging_percentage\u001b[49m\u001b[43m,\u001b[49m\u001b[43m \u001b[49m\u001b[38;5;241;43m20\u001b[39;49m\u001b[43m)\u001b[49m)\n",
      "Input \u001b[1;32mIn [34]\u001b[0m, in \u001b[0;36mcompute_top_stats_career\u001b[1;34m(info, formula, numplayers)\u001b[0m\n\u001b[0;32m     29\u001b[0m     \u001b[38;5;28;01mif\u001b[39;00m formula \u001b[38;5;241m==\u001b[39m slugging_percentage:\n\u001b[0;32m     30\u001b[0m         \u001b[38;5;28;01mfor\u001b[39;00m battle_stats \u001b[38;5;129;01min\u001b[39;00m statistics:\n\u001b[1;32m---> 31\u001b[0m             career_high_score[playerid] \u001b[38;5;241m=\u001b[39m  \u001b[43mslugging_percentage\u001b[49m\u001b[43m(\u001b[49m\u001b[43mbaseballdatainfo\u001b[49m\u001b[43m,\u001b[49m\u001b[43m \u001b[49m\u001b[43mbattle_stats\u001b[49m\u001b[43m)\u001b[49m\n\u001b[0;32m     33\u001b[0m list_career_high \u001b[38;5;241m=\u001b[39m [\u001b[38;5;28mlist\u001b[39m(x,y) \u001b[38;5;28;01mfor\u001b[39;00m x,y \u001b[38;5;129;01min\u001b[39;00m career_high_score\u001b[38;5;241m.\u001b[39mitems]\n\u001b[0;32m     34\u001b[0m list_career_high\u001b[38;5;241m.\u001b[39msort(key \u001b[38;5;241m=\u001b[39m \u001b[38;5;28;01mlambda\u001b[39;00m pair:pair[\u001b[38;5;241m1\u001b[39m])\n",
      "Input \u001b[1;32mIn [5]\u001b[0m, in \u001b[0;36mslugging_percentage\u001b[1;34m(info, batting_stats)\u001b[0m\n\u001b[0;32m     12\u001b[0m home_runs \u001b[38;5;241m=\u001b[39m \u001b[38;5;28mfloat\u001b[39m(batting_stats[info[\u001b[38;5;124m\"\u001b[39m\u001b[38;5;124mhomeruns\u001b[39m\u001b[38;5;124m\"\u001b[39m]])\n\u001b[0;32m     13\u001b[0m singles \u001b[38;5;241m=\u001b[39m hits \u001b[38;5;241m-\u001b[39m doubles \u001b[38;5;241m-\u001b[39m triples \u001b[38;5;241m-\u001b[39m home_runs\n\u001b[1;32m---> 14\u001b[0m at_bats \u001b[38;5;241m=\u001b[39m \u001b[38;5;28;43mfloat\u001b[39;49m\u001b[43m(\u001b[49m\u001b[43mbatting_stats\u001b[49m\u001b[43m[\u001b[49m\u001b[43minfo\u001b[49m\u001b[43m[\u001b[49m\u001b[38;5;124;43m\"\u001b[39;49m\u001b[38;5;124;43matbats\u001b[39;49m\u001b[38;5;124;43m\"\u001b[39;49m\u001b[43m]\u001b[49m\u001b[43m]\u001b[49m\u001b[43m)\u001b[49m\n\u001b[0;32m     16\u001b[0m \u001b[38;5;28;01mif\u001b[39;00m at_bats \u001b[38;5;241m>\u001b[39m\u001b[38;5;241m=\u001b[39m MINIMUM_AB:\n\u001b[0;32m     17\u001b[0m     \u001b[38;5;28;01mreturn\u001b[39;00m (singles \u001b[38;5;241m+\u001b[39m \u001b[38;5;241m2\u001b[39m \u001b[38;5;241m*\u001b[39m doubles \u001b[38;5;241m+\u001b[39m \u001b[38;5;241m3\u001b[39m \u001b[38;5;241m*\u001b[39m triples \u001b[38;5;241m+\u001b[39m \u001b[38;5;241m4\u001b[39m \u001b[38;5;241m*\u001b[39m home_runs) \u001b[38;5;241m/\u001b[39m at_bats\n",
      "\u001b[1;31mKeyboardInterrupt\u001b[0m: "
     ]
    }
   ],
   "source": [
    "def compute_top_stats_career(info, formula, numplayers):\n",
    "    \"\"\"\n",
    "    Inputs:\n",
    "      info        - Baseball data information dictionary\n",
    "      formula     - function that takes an info dictionary and a\n",
    "                    batting statistics dictionary as input and\n",
    "                    computes a compound statistic\n",
    "      numplayers  - Number of top players to return\n",
    "    \"\"\"\n",
    "    # player_ids = []\n",
    "    # for row in statistics:\n",
    "    #     player_ids.append(row['playerID'])\n",
    "    # player_ids = list(set(player_ids))\n",
    "    # fields = [\"atbats\",\"hits\", \"doubles\", \"triples\", \"homeruns\",\"walks\"]\n",
    "    unique_statistics = statistics\n",
    "    player_ids = []\n",
    "    for row in statistics:\n",
    "        player_ids.append(row['playerID'])\n",
    "    player_ids = list(set(player_ids)) \n",
    "    # the set function eliminates the repititive values and creates unique values set (18915 unique IDs)\n",
    "\n",
    "    fields = ['atbats','hits', 'doubles', 'triples', 'homeruns','walks']\n",
    "    \n",
    "    career_high_score = {}\n",
    "    aggregate_fields = {} # {playerid:{'AB':0, 'H':0, '2B':0, '3B':0, 'HR':0, 'BB':0}}\n",
    "\n",
    "    for playerid in player_ids:\n",
    "        temp = aggregate_by_player_id(statistics, playerid, fields)\n",
    "        aggregate_fields[playerid] = temp[playerid]\n",
    "            for battle_stats in statistics:\n",
    "                if formula == slugging_percentage:\n",
    "                    career_high_score[playerid] =  slugging_percentage(baseballdatainfo, battle_stats)\n",
    "                elif formula == onbase_percentage:\n",
    "                    career_high_score[playerid] = onbase_percentage(baseballdatainfo, battle_stats)\n",
    "                else:\n",
    "                    career_high_score[playerid] = batting_average(baseballdatainfo, battle_stats)\n",
    "\n",
    "    list_career_high = [list(x,y) for x,y in career_high_score.items]\n",
    "    list_career_high.sort(key = lambda pair:pair[1])\n",
    "    print(list_career_high[0:numplayers])\n",
    "    \n",
    "    # aggregate_fields = {} # {playerid:{'AB':0, 'H':0, '2B':0, '3B':0, 'HR':0, 'BB':0}}\n",
    "    # for playerid in player_ids:\n",
    "    #     for row in statistics:\n",
    "    #         if row['playerID'] == playerid:\n",
    "    #             aggregate_fields[playerid] = {'AB':0, 'H':0, '2B':0, '3B':0, 'HR':0, 'BB':0}\n",
    "    #             for field in fields:\n",
    "    #                    aggregate_fields[playerid][baseballdatainfo[field]] = float(aggregate_fields[playerid][baseballdatainfo[field]]) + float(row[baseballdatainfo[field]])\n",
    "\n",
    "#     agg_player_stat = {}\n",
    "#     for player in player_ids:\n",
    "#             agg_player_stat[player] = (aggregate_by_player_id(statistics, playerid, fields)).values()\n",
    "    \n",
    "    \n",
    "    return list_career_high\n",
    "\n",
    "print(compute_top_stats_career(baseballdatainfo, slugging_percentage, 20))"
   ]
  },
  {
   "cell_type": "code",
   "execution_count": 47,
   "id": "4bde349f-858a-4819-a669-adf1621fcdb4",
   "metadata": {},
   "outputs": [
    {
     "name": "stdout",
     "output_type": "stream",
     "text": [
      "18915\n",
      "18915\n"
     ]
    },
    {
     "ename": "FileNotFoundError",
     "evalue": "[Errno 2] No such file or directory: 'ok2.csv'",
     "output_type": "error",
     "traceback": [
      "\u001b[1;31m---------------------------------------------------------------------------\u001b[0m",
      "\u001b[1;31mFileNotFoundError\u001b[0m                         Traceback (most recent call last)",
      "Input \u001b[1;32mIn [47]\u001b[0m, in \u001b[0;36m<cell line: 23>\u001b[1;34m()\u001b[0m\n\u001b[0;32m     20\u001b[0m \u001b[38;5;28mprint\u001b[39m(\u001b[38;5;28mlen\u001b[39m(aggregate_fields))\n\u001b[0;32m     22\u001b[0m player_names \u001b[38;5;241m=\u001b[39m []\n\u001b[1;32m---> 23\u001b[0m \u001b[38;5;28;01mwith\u001b[39;00m \u001b[38;5;28;43mopen\u001b[39;49m\u001b[43m(\u001b[49m\u001b[38;5;124;43m'\u001b[39;49m\u001b[38;5;124;43mok2.csv\u001b[39;49m\u001b[38;5;124;43m'\u001b[39;49m\u001b[43m,\u001b[49m\u001b[43m \u001b[49m\u001b[43mnewline\u001b[49m\u001b[43m \u001b[49m\u001b[38;5;241;43m=\u001b[39;49m\u001b[43m \u001b[49m\u001b[38;5;124;43m'\u001b[39;49m\u001b[38;5;124;43m'\u001b[39;49m\u001b[43m)\u001b[49m \u001b[38;5;28;01mas\u001b[39;00m ok_file:\n\u001b[0;32m     24\u001b[0m     writer \u001b[38;5;241m=\u001b[39m csv\u001b[38;5;241m.\u001b[39mwriter(ok_file, delimiter\u001b[38;5;241m=\u001b[39m\u001b[38;5;124m'\u001b[39m\u001b[38;5;124m,\u001b[39m\u001b[38;5;124m'\u001b[39m, quotechar \u001b[38;5;241m=\u001b[39m \u001b[38;5;124m\"\u001b[39m\u001b[38;5;124m'\u001b[39m\u001b[38;5;124m\"\u001b[39m)\n\u001b[0;32m     25\u001b[0m     \u001b[38;5;28;01mfor\u001b[39;00m row \u001b[38;5;129;01min\u001b[39;00m aggregate_fields:\n",
      "\u001b[1;31mFileNotFoundError\u001b[0m: [Errno 2] No such file or directory: 'ok2.csv'"
     ]
    }
   ],
   "source": [
    "unique_statistics = statistics\n",
    "player_ids = []\n",
    "for row in statistics:\n",
    "    player_ids.append(row['playerID'])\n",
    "player_ids = list(set(player_ids))\n",
    "print(len(player_ids))\n",
    "\n",
    "fields = ['atbats','hits', 'doubles', 'triples', 'homeruns','walks']\n",
    "aggregate_fields = {} #{playerid:{'AB':0, 'H':0, '2B':0, '3B':0, 'HR':0, 'BB':0}}\n",
    "\n",
    "\n",
    "for playerid in player_ids:\n",
    "    for row in statistics:\n",
    "        if row['playerID'] == playerid:\n",
    "            aggregate_fields[playerid] = {'AB':0, 'H':0, '2B':0, '3B':0, 'HR':0, 'BB':0}\n",
    "            for field in fields:\n",
    "                   aggregate_fields[playerid][baseballdatainfo[field]] = float(aggregate_fields[playerid][baseballdatainfo[field]]) + float(row[baseballdatainfo[field]])\n",
    "\n",
    "                    \n",
    "print(len(aggregate_fields))\n",
    "        \n",
    "player_names = []\n",
    "with open('ok2.csv', newline = '') as ok_file:\n",
    "    writer = csv.writer(ok_file, delimiter=',', quotechar = \"'\")\n",
    "    for row in aggregate_fields:\n",
    "        writer.writerow(row)\n",
    "        \n",
    "    "
   ]
  },
  {
   "cell_type": "markdown",
   "id": "409ac80b",
   "metadata": {},
   "source": [
    "# Testing"
   ]
  },
  {
   "cell_type": "code",
   "execution_count": null,
   "id": "971aa155",
   "metadata": {},
   "outputs": [],
   "source": [
    "import pandas as pd \n",
    "import numpy as np\n",
    "df = pd.read_csv(\"Batting_2016.csv\")\n",
    "# cols = [6,15]\n",
    "# df = df[df.columns[cols]]\n",
    "# print(df)\n",
    "ID = np.matrix(df.iloc[:,0:2])\n",
    "print(ID.shape)\n",
    "c=0\n",
    "for col in range(len(ID)):\n",
    "    if ID[2,0]==ID[col,0]: # \n",
    "        c+=1\n",
    "        print(ID[col])\n",
    "    if(col>100000):\n",
    "        break\n",
    "\n",
    "print(c)\n",
    "\n",
    "\n"
   ]
  },
  {
   "cell_type": "code",
   "execution_count": null,
   "id": "6e06ec03-ba5c-4622-88fb-ecb5cde23a26",
   "metadata": {},
   "outputs": [],
   "source": []
  }
 ],
 "metadata": {
  "kernelspec": {
   "display_name": "Python 3 (ipykernel)",
   "language": "python",
   "name": "python3"
  },
  "language_info": {
   "codemirror_mode": {
    "name": "ipython",
    "version": 3
   },
   "file_extension": ".py",
   "mimetype": "text/x-python",
   "name": "python",
   "nbconvert_exporter": "python",
   "pygments_lexer": "ipython3",
   "version": "3.9.7"
  }
 },
 "nbformat": 4,
 "nbformat_minor": 5
}
